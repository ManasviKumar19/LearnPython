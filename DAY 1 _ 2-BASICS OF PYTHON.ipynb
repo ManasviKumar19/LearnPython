{
 "cells": [
  {
   "cell_type": "markdown",
   "metadata": {},
   "source": [
    "# Basics of Python"
   ]
  },
  {
   "cell_type": "code",
   "execution_count": 1,
   "metadata": {},
   "outputs": [
    {
     "name": "stdout",
     "output_type": "stream",
     "text": [
      "hello world\n"
     ]
    }
   ],
   "source": [
    "print(\"hello world\")"
   ]
  },
  {
   "cell_type": "code",
   "execution_count": 3,
   "metadata": {},
   "outputs": [
    {
     "name": "stdout",
     "output_type": "stream",
     "text": [
      "4\n",
      "<class 'int'>\n",
      "<class 'float'>\n",
      "c\n",
      "<class 'str'>\n",
      "<class 'str'>\n"
     ]
    }
   ],
   "source": [
    "print(4)\n",
    "print(type(4))\n",
    "print(type(5.36))\n",
    "print('c')\n",
    "print(type('c'))\n",
    "print(type(\"hello world\"))"
   ]
  },
  {
   "cell_type": "markdown",
   "metadata": {},
   "source": [
    "### Arithmetic Operations"
   ]
  },
  {
   "cell_type": "code",
   "execution_count": 11,
   "metadata": {},
   "outputs": [
    {
     "name": "stdout",
     "output_type": "stream",
     "text": [
      "9\n",
      "4\n",
      "45\n",
      "1.8\n",
      "1\n",
      "8\n",
      "1\n"
     ]
    }
   ],
   "source": [
    "print(4+5)\n",
    "print(9-5)\n",
    "print(9*5)\n",
    "print(9/5)\n",
    "print(9//5)\n",
    "print(2**3)\n",
    "print(3%2)\n"
   ]
  },
  {
   "cell_type": "code",
   "execution_count": 13,
   "metadata": {},
   "outputs": [
    {
     "name": "stdout",
     "output_type": "stream",
     "text": [
      "20\n",
      "20.0\n",
      "2.0\n",
      "1.25\n"
     ]
    }
   ],
   "source": [
    "print(5*4)\n",
    "print(5.0*4)\n",
    "\n",
    "print(4/2)\n",
    "print(2.5/2)"
   ]
  },
  {
   "cell_type": "raw",
   "metadata": {},
   "source": [
    "int * int = int\n",
    "float * int = float\n",
    "division result is float only"
   ]
  },
  {
   "cell_type": "markdown",
   "metadata": {},
   "source": [
    "### List"
   ]
  },
  {
   "cell_type": "markdown",
   "metadata": {},
   "source": [
    "- List Creation"
   ]
  },
  {
   "cell_type": "code",
   "execution_count": 15,
   "metadata": {},
   "outputs": [
    {
     "name": "stdout",
     "output_type": "stream",
     "text": [
      "[1, 2, 3, 'c', 'hello']\n",
      "<class 'list'>\n"
     ]
    }
   ],
   "source": [
    "list1 = [1,2,3,'c',\"hello\"]\n",
    "print(list1)\n",
    "print(type(list1))"
   ]
  },
  {
   "cell_type": "markdown",
   "metadata": {},
   "source": [
    "- List Indexing"
   ]
  },
  {
   "cell_type": "code",
   "execution_count": 17,
   "metadata": {},
   "outputs": [
    {
     "name": "stdout",
     "output_type": "stream",
     "text": [
      "1\n",
      "hello\n"
     ]
    }
   ],
   "source": [
    "print(list1[0])\n",
    "print(list1[4])"
   ]
  },
  {
   "cell_type": "markdown",
   "metadata": {},
   "source": [
    "- List Updating"
   ]
  },
  {
   "cell_type": "code",
   "execution_count": 20,
   "metadata": {},
   "outputs": [
    {
     "name": "stdout",
     "output_type": "stream",
     "text": [
      "[5, 2, 3, 'c', 'hello']\n"
     ]
    }
   ],
   "source": [
    "list1[0]=5\n",
    "print(list1)"
   ]
  },
  {
   "cell_type": "markdown",
   "metadata": {},
   "source": [
    "- List Oprations"
   ]
  },
  {
   "cell_type": "code",
   "execution_count": 25,
   "metadata": {},
   "outputs": [
    {
     "name": "stdout",
     "output_type": "stream",
     "text": [
      "[1, 2, 3, 4, 5, 6, 7, 8]\n",
      "[1, 2, 3, 4, 1, 2, 3, 4, 1, 2, 3, 4]\n"
     ]
    }
   ],
   "source": [
    "list1 = [1,2,3,4]\n",
    "list2 = [5,6,7,8]\n",
    "\n",
    "print(list1+list2)\n",
    "#print(list1-list2) not allowed\n",
    "#print(list1*list2) not valid for two lists\n",
    "print(list1*3) #valid"
   ]
  },
  {
   "cell_type": "raw",
   "metadata": {},
   "source": [
    "'+' in lists stands for concatenation\n",
    "' * ' repeats the list n times|"
   ]
  },
  {
   "cell_type": "markdown",
   "metadata": {},
   "source": [
    "- Negative indexing"
   ]
  },
  {
   "cell_type": "code",
   "execution_count": 27,
   "metadata": {},
   "outputs": [
    {
     "name": "stdout",
     "output_type": "stream",
     "text": [
      "4\n",
      "3\n",
      "2\n",
      "1\n"
     ]
    }
   ],
   "source": [
    "list1=[1,2,3,4]\n",
    "print(list1[-1])\n",
    "print(list1[-2])\n",
    "print(list1[-3])\n",
    "print(list1[-4])"
   ]
  },
  {
   "cell_type": "markdown",
   "metadata": {},
   "source": [
    "- List Slicing"
   ]
  },
  {
   "cell_type": "code",
   "execution_count": 32,
   "metadata": {},
   "outputs": [
    {
     "name": "stdout",
     "output_type": "stream",
     "text": [
      "[1, 2, 3, 4, 5]\n",
      "[6, 7, 8, 9]\n",
      "[1, 2, 3, 4, 5]\n",
      "[6, 7, 8, 9]\n",
      "[1, 2, 3, 4, 5, 6, 7, 8, 9]\n",
      "[1, 3, 5, 7, 9]\n",
      "[2, 4, 6, 8]\n"
     ]
    }
   ],
   "source": [
    "list1=[1,2,3,4,5,6,7,8,9]\n",
    "print(list1[0:5]) #select elements from index 0 to index 5-1=4\n",
    "print(list1[5:9]) #select elements from index 5 to index 8\n",
    "print(list1[:5]) #default start is 0\n",
    "print(list1[5:]) #default end is last element\n",
    "print(list1[:])\n",
    "\n",
    "print(list1[0::2])\n",
    "print(list1[1::2]) #for even nos 1::2 means start at index 1 and step of 2 "
   ]
  },
  {
   "cell_type": "markdown",
   "metadata": {},
   "source": [
    "- List slicing Negative Index"
   ]
  },
  {
   "cell_type": "code",
   "execution_count": 33,
   "metadata": {},
   "outputs": [
    {
     "name": "stdout",
     "output_type": "stream",
     "text": [
      "[6, 7, 8, 9]\n",
      "[6, 7, 8]\n"
     ]
    }
   ],
   "source": [
    "list1=[1,2,3,4,5,6,7,8,9]\n",
    "print(list1[-4:])\n",
    "print(list1[-4:-1])"
   ]
  },
  {
   "cell_type": "markdown",
   "metadata": {},
   "source": [
    "- List Functions"
   ]
  },
  {
   "cell_type": "code",
   "execution_count": 35,
   "metadata": {},
   "outputs": [
    {
     "name": "stdout",
     "output_type": "stream",
     "text": [
      "9\n",
      "[1, 2, 3, 4, 5, 6, 7, 8, 9, 'a']\n"
     ]
    }
   ],
   "source": [
    "print(len(list1)) # length of the list\n",
    "list1.append('a') #new element gets added to the end of the list\\\n",
    "print(list1)"
   ]
  },
  {
   "cell_type": "code",
   "execution_count": 36,
   "metadata": {},
   "outputs": [
    {
     "name": "stdout",
     "output_type": "stream",
     "text": [
      "[1, 2, 3, 4, 5, 6, 7, 8, 9, 'a', [1, 2]]\n"
     ]
    }
   ],
   "source": [
    "list1.append([1,2])\n",
    "print(list1)"
   ]
  },
  {
   "cell_type": "markdown",
   "metadata": {},
   "source": [
    "Whatever is inside this bracket of append will be appended at the end"
   ]
  },
  {
   "cell_type": "code",
   "execution_count": 37,
   "metadata": {},
   "outputs": [],
   "source": [
    "list1.extend([1,2])"
   ]
  },
  {
   "cell_type": "code",
   "execution_count": 38,
   "metadata": {},
   "outputs": [
    {
     "name": "stdout",
     "output_type": "stream",
     "text": [
      "[1, 2, 3, 4, 5, 6, 7, 8, 9, 'a', [1, 2], 1, 2]\n"
     ]
    }
   ],
   "source": [
    "print(list1)"
   ]
  },
  {
   "cell_type": "code",
   "execution_count": 39,
   "metadata": {},
   "outputs": [
    {
     "name": "stdout",
     "output_type": "stream",
     "text": [
      "[1, 2, 55, 3, 4, 5, 6, 7, 8, 9, 'a', [1, 2], 1, 2]\n"
     ]
    }
   ],
   "source": [
    "list1.insert(2,55) #the element 55 will be added into the 2nd index of list\n",
    "print(list1)"
   ]
  },
  {
   "cell_type": "code",
   "execution_count": 40,
   "metadata": {},
   "outputs": [
    {
     "name": "stdout",
     "output_type": "stream",
     "text": [
      "[2, 2, 5, 32, 34]\n"
     ]
    }
   ],
   "source": [
    "list1=[2,5,34,32,2]\n",
    "list1.sort()\n",
    "print(list1)"
   ]
  },
  {
   "cell_type": "code",
   "execution_count": 44,
   "metadata": {},
   "outputs": [
    {
     "name": "stdout",
     "output_type": "stream",
     "text": [
      "['a', 'b', 'c']\n"
     ]
    }
   ],
   "source": [
    "list1=['a','c','b']\n",
    "list1.sort()\n",
    "print(list1)"
   ]
  },
  {
   "cell_type": "code",
   "execution_count": 46,
   "metadata": {},
   "outputs": [
    {
     "name": "stdout",
     "output_type": "stream",
     "text": [
      "[34, 32, 5, 2, 2]\n"
     ]
    }
   ],
   "source": [
    "list1=[2,5,34,32,2]\n",
    "list1.sort(reverse=True)\n",
    "print(list1)"
   ]
  },
  {
   "cell_type": "code",
   "execution_count": 47,
   "metadata": {},
   "outputs": [
    {
     "name": "stdout",
     "output_type": "stream",
     "text": [
      "[]\n"
     ]
    }
   ],
   "source": [
    "list1.clear()\n",
    "print(list1)"
   ]
  },
  {
   "cell_type": "markdown",
   "metadata": {},
   "source": [
    "# Day 2\n"
   ]
  },
  {
   "cell_type": "markdown",
   "metadata": {},
   "source": [
    "# Strings"
   ]
  },
  {
   "cell_type": "markdown",
   "metadata": {},
   "source": [
    "- String Indexing"
   ]
  },
  {
   "cell_type": "code",
   "execution_count": 6,
   "metadata": {},
   "outputs": [
    {
     "name": "stdout",
     "output_type": "stream",
     "text": [
      "i\n",
      "!\n"
     ]
    }
   ],
   "source": [
    "str1='i love python!'\n",
    "print(str1[0])\n",
    "print(str1[-1])\n"
   ]
  },
  {
   "cell_type": "markdown",
   "metadata": {},
   "source": [
    "- String Slicing"
   ]
  },
  {
   "cell_type": "code",
   "execution_count": 8,
   "metadata": {},
   "outputs": [
    {
     "name": "stdout",
     "output_type": "stream",
     "text": [
      "python\n",
      "python\n",
      "ilv yhn\n",
      "!nohtyp evol i\n"
     ]
    }
   ],
   "source": [
    "print(str1[7:13])\n",
    "print(str1[7:-1])\n",
    "print(str1[::2])\n",
    "print(str1[::-1])#reverse the string. As negative indexing is used default starting point is -1 and enpoint is first character "
   ]
  },
  {
   "cell_type": "markdown",
   "metadata": {},
   "source": [
    "- String Operations|"
   ]
  },
  {
   "cell_type": "code",
   "execution_count": 16,
   "metadata": {},
   "outputs": [
    {
     "name": "stdout",
     "output_type": "stream",
     "text": [
      "onetwo\n",
      "oneone\n"
     ]
    }
   ],
   "source": [
    "str1='one'\n",
    "str2='two'\n",
    "print(str1+str2)\n",
    "#print(str1-str2) error\n",
    "#print(str1*str2) error\n",
    "print(str1*2)"
   ]
  },
  {
   "cell_type": "markdown",
   "metadata": {},
   "source": [
    "- User Input"
   ]
  },
  {
   "cell_type": "code",
   "execution_count": 21,
   "metadata": {},
   "outputs": [
    {
     "name": "stdout",
     "output_type": "stream",
     "text": [
      "123\n",
      "123\n",
      "<class 'str'>\n"
     ]
    }
   ],
   "source": [
    "user = input() #it will consider the datatype of anything entered by the user as STRING\n",
    "print(user)\n",
    "print(type(user))"
   ]
  },
  {
   "cell_type": "code",
   "execution_count": 22,
   "metadata": {},
   "outputs": [
    {
     "name": "stdout",
     "output_type": "stream",
     "text": [
      "ENTER THE NUMBER:123\n",
      "123\n",
      "<class 'int'>\n"
     ]
    }
   ],
   "source": [
    "user =int(input('ENTER THE NUMBER:')) #ONLY INTEGER ALLOWED\n",
    "print(user)\n",
    "print(type(user))\n"
   ]
  },
  {
   "cell_type": "markdown",
   "metadata": {},
   "source": [
    "# conditionals\n"
   ]
  },
  {
   "cell_type": "markdown",
   "metadata": {},
   "source": [
    "- if else"
   ]
  },
  {
   "cell_type": "code",
   "execution_count": 26,
   "metadata": {},
   "outputs": [
    {
     "name": "stdout",
     "output_type": "stream",
     "text": [
      "enter the valid no. 10\n",
      "value is less than 30\n"
     ]
    }
   ],
   "source": [
    "value = int(input(\"enter the valid no. \"))\n",
    "if value > 30:\n",
    "    print('value is greater than 30')\n",
    "else:\n",
    "    print('value is less than 30')"
   ]
  },
  {
   "cell_type": "code",
   "execution_count": 28,
   "metadata": {},
   "outputs": [
    {
     "name": "stdout",
     "output_type": "stream",
     "text": [
      "enter the valid no. 30\n",
      "value is 30\n"
     ]
    }
   ],
   "source": [
    "value = int(input(\"enter the valid no. \"))\n",
    "if value > 30 and value < 30:\n",
    "    print('value is greater than or  less than 30')\n",
    "else:\n",
    "    print('value is 30')"
   ]
  },
  {
   "cell_type": "code",
   "execution_count": 30,
   "metadata": {},
   "outputs": [
    {
     "name": "stdout",
     "output_type": "stream",
     "text": [
      "enter the valid no. 30\n",
      "value is 30\n"
     ]
    }
   ],
   "source": [
    "value = int(input(\"enter the valid no. \"))\n",
    "if value > 30:\n",
    "    print('value is greater than 30')\n",
    "elif value < 30:\n",
    "    print('value is less than 30')\n",
    "else:\n",
    "        print(\"value is 30\")\n"
   ]
  },
  {
   "cell_type": "markdown",
   "metadata": {},
   "source": [
    "- single if else"
   ]
  },
  {
   "cell_type": "code",
   "execution_count": 33,
   "metadata": {},
   "outputs": [
    {
     "name": "stdout",
     "output_type": "stream",
     "text": [
      "enter the valid no. 47\n",
      "value greater than 30\n"
     ]
    }
   ],
   "source": [
    "value = int(input(\"enter the valid no. \"))\n",
    "# if value > 30:\n",
    "#     print('value is greater than 30')\n",
    "# else:\n",
    "#     print('value is less than 30')\n",
    "\n",
    "print('value greater than 30') if value > 30 else  print('value less than 30')"
   ]
  },
  {
   "cell_type": "code",
   "execution_count": 35,
   "metadata": {},
   "outputs": [
    {
     "name": "stdout",
     "output_type": "stream",
     "text": [
      "a less than b\n"
     ]
    }
   ],
   "source": [
    "a,b=10,12\n",
    "# if a!=b:\n",
    "#     if a>b:\n",
    "#         print('a greater than b')\n",
    "#     else:\n",
    "#         print('a less than b')\n",
    "# else:\n",
    "#     print('both are equal')\n",
    "\n",
    "print('a greater than b') if a>b else print('a less than b') if a!=b else  print('both are equal')"
   ]
  },
  {
   "cell_type": "code",
   "execution_count": 60,
   "metadata": {},
   "outputs": [
    {
     "name": "stdout",
     "output_type": "stream",
     "text": [
      "enter cost price:100\n",
      "enter selling price:0\n",
      "The loss incurred was 100\n"
     ]
    }
   ],
   "source": [
    "cost=int(input('enter cost price:'))\n",
    "sell=int(input('enter selling price:'))\n",
    "p=sell-cost\n",
    "l=-p\n",
    "if p<0:\n",
    "    print('The loss incurred was', l)\n",
    "elif p>0:\n",
    "    print('The profit was', p)\n",
    "else:\n",
    "    print('No profit no loss')"
   ]
  },
  {
   "cell_type": "code",
   "execution_count": 55,
   "metadata": {},
   "outputs": [
    {
     "name": "stdout",
     "output_type": "stream",
     "text": [
      "the values are 1 and 2.000000\n",
      "the values are 1 and 2\n",
      "the values are 1 and 2\n"
     ]
    }
   ],
   "source": [
    "a=1\n",
    "b=2\n",
    "print('the values are %d and %f'%(a,b))\n",
    "print('the values are {0} and {1}'.format(a,b))\n",
    "print('the values are {n1} and {n2}'.format(n1=a,n2=b))"
   ]
  },
  {
   "cell_type": "code",
   "execution_count": 61,
   "metadata": {},
   "outputs": [
    {
     "name": "stdout",
     "output_type": "stream",
     "text": [
      "principal:100\n",
      "rate:2\n",
      "years:1\n",
      "The simple interest is 2\n"
     ]
    }
   ],
   "source": [
    "p=int(input('principal:'))\n",
    "r=int(input('rate:'))\n",
    "t=int(input('years:'))\n",
    "\n",
    "si=(p*r*t)/100;\n",
    "print('The simple interest is %d'%(si))\n",
    "\n",
    "\n",
    "\n"
   ]
  },
  {
   "cell_type": "code",
   "execution_count": null,
   "metadata": {},
   "outputs": [],
   "source": []
  }
 ],
 "metadata": {
  "kernelspec": {
   "display_name": "Python 3",
   "language": "python",
   "name": "python3"
  },
  "language_info": {
   "codemirror_mode": {
    "name": "ipython",
    "version": 3
   },
   "file_extension": ".py",
   "mimetype": "text/x-python",
   "name": "python",
   "nbconvert_exporter": "python",
   "pygments_lexer": "ipython3",
   "version": "3.7.3"
  }
 },
 "nbformat": 4,
 "nbformat_minor": 2
}
