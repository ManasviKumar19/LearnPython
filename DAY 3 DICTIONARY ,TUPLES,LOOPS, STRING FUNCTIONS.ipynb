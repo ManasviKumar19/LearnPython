{
 "cells": [
  {
   "cell_type": "markdown",
   "metadata": {},
   "source": [
    "## Dictionary"
   ]
  },
  {
   "cell_type": "markdown",
   "metadata": {},
   "source": [
    "- Creating and accesing dictionary"
   ]
  },
  {
   "cell_type": "code",
   "execution_count": 1,
   "metadata": {},
   "outputs": [],
   "source": [
    "#dict_name={key1:value1,key2:value2}"
   ]
  },
  {
   "cell_type": "code",
   "execution_count": 10,
   "metadata": {},
   "outputs": [
    {
     "name": "stdout",
     "output_type": "stream",
     "text": [
      "{'jan': 31, 'feb': 28, 'march': 31}\n",
      "<class 'dict'>\n"
     ]
    }
   ],
   "source": [
    "dict1={'jan':31,'feb':28,'march':31}\n",
    "dict2={1:2,2:3}\n",
    "print(dict1)\n",
    "print(type(dict1))"
   ]
  },
  {
   "cell_type": "code",
   "execution_count": 11,
   "metadata": {},
   "outputs": [
    {
     "name": "stdout",
     "output_type": "stream",
     "text": [
      "31\n",
      "3\n"
     ]
    }
   ],
   "source": [
    "print(dict1['jan'])\n",
    "print(dict2[2])"
   ]
  },
  {
   "cell_type": "markdown",
   "metadata": {},
   "source": [
    "#type of key should be same for every element in the dictonary but the type of value can be different i.e. int,float,string etc#lists are not allowed in dictionary"
   ]
  },
  {
   "cell_type": "markdown",
   "metadata": {},
   "source": [
    "- Updating a dictionary"
   ]
  },
  {
   "cell_type": "code",
   "execution_count": 15,
   "metadata": {},
   "outputs": [
    {
     "name": "stdout",
     "output_type": "stream",
     "text": [
      "{'jan': 31.0, 'feb': 28, 'march': 31, 'april': 30}\n"
     ]
    }
   ],
   "source": [
    "#adding a new element\n",
    "dict1['april']=30\n",
    "#updating existing key value pair\n",
    "dict1['jan']=31.0\n",
    "print(dict1)"
   ]
  },
  {
   "cell_type": "markdown",
   "metadata": {},
   "source": [
    "- Deleting an element from dictionary|"
   ]
  },
  {
   "cell_type": "code",
   "execution_count": 16,
   "metadata": {},
   "outputs": [
    {
     "name": "stdout",
     "output_type": "stream",
     "text": [
      "{'jan': 31.0, 'feb': 28, 'march': 31, 'april': 30}\n",
      "{'feb': 28, 'march': 31, 'april': 30}\n"
     ]
    }
   ],
   "source": [
    "print(dict1)\n",
    "del dict1['jan']\n",
    "print(dict1)"
   ]
  },
  {
   "cell_type": "code",
   "execution_count": 20,
   "metadata": {},
   "outputs": [
    {
     "name": "stdout",
     "output_type": "stream",
     "text": [
      "{'feb': 28, 'march': 31, 'april': 30, 'jan': [30, 31]}\n",
      "{'feb': 28, 'march': 31, 'april': 30, 'jan': 30}\n"
     ]
    }
   ],
   "source": [
    "print(dict1)\n",
    "dict1['jan'] = 30\n",
    "print(dict1)\n",
    "#key can not be a varible value\n",
    "# dict1[[28,29,30]] = \"jan\""
   ]
  },
  {
   "cell_type": "markdown",
   "metadata": {},
   "source": [
    "## Dictionary Functions"
   ]
  },
  {
   "cell_type": "code",
   "execution_count": 23,
   "metadata": {},
   "outputs": [
    {
     "name": "stdout",
     "output_type": "stream",
     "text": [
      "4\n",
      "30\n",
      "30\n",
      "None\n",
      "31\n"
     ]
    }
   ],
   "source": [
    "print(len(dict1)) \n",
    "\n",
    "print(dict1.get('jan',None)) #will get the value of jan\n",
    "print(dict1.get('jan', 41)) #same\n",
    "print(dict1.get('dec',None)) #dec is not present so None will be displayed\n",
    "print(dict1.get('dec',31)) #dec is not present so 31 will be assigned to dec"
   ]
  },
  {
   "cell_type": "code",
   "execution_count": 24,
   "metadata": {},
   "outputs": [
    {
     "name": "stdout",
     "output_type": "stream",
     "text": [
      "dict_items([('feb', 28), ('march', 31), ('april', 30), ('jan', 30)])\n",
      "<class 'dict_items'>\n",
      "[('feb', 28), ('march', 31), ('april', 30), ('jan', 30)]\n",
      "<class 'list'>\n",
      "('feb', 28)\n"
     ]
    }
   ],
   "source": [
    "print(dict1.items()) #object containing a datatype in this case  a list\n",
    "print(type(dict1.items())) \n",
    "print(list(dict1.items())) #typecasting the object to a list\n",
    "print(type(list(dict1.items()))) \n",
    "print(list(dict1.items())[0]) # indexing of the typecasted list"
   ]
  },
  {
   "cell_type": "code",
   "execution_count": 27,
   "metadata": {},
   "outputs": [
    {
     "name": "stdout",
     "output_type": "stream",
     "text": [
      "dict_keys(['feb', 'march', 'april', 'jan'])\n",
      "['feb', 'march', 'april', 'jan']\n"
     ]
    }
   ],
   "source": [
    "print(dict1.keys()) #object consisting of keys\n",
    "print(list(dict1.keys())) #object typecasted as list containing keys"
   ]
  },
  {
   "cell_type": "code",
   "execution_count": 28,
   "metadata": {},
   "outputs": [
    {
     "name": "stdout",
     "output_type": "stream",
     "text": [
      "dict_values([28, 31, 30, 30])\n",
      "[28, 31, 30, 30]\n"
     ]
    }
   ],
   "source": [
    "print(dict1.values())\n",
    "print(list(dict1.values()))"
   ]
  },
  {
   "cell_type": "markdown",
   "metadata": {},
   "source": [
    "# Tuple Datatype"
   ]
  },
  {
   "cell_type": "code",
   "execution_count": 29,
   "metadata": {},
   "outputs": [
    {
     "name": "stdout",
     "output_type": "stream",
     "text": [
      "(2, 2.3, 'chirag', 'c')\n",
      "<class 'tuple'>\n"
     ]
    }
   ],
   "source": [
    "#same as a list but can't be altered in any way. Can only be accesed i.e. VIEWED\n",
    "tuple1=(2,2.3,\"chirag\",'c')\n",
    "print(tuple1)\n",
    "print(type(tuple1))\n"
   ]
  },
  {
   "cell_type": "code",
   "execution_count": 30,
   "metadata": {},
   "outputs": [
    {
     "name": "stdout",
     "output_type": "stream",
     "text": [
      "2\n",
      "c\n",
      "(2, 2.3)\n",
      "('c', 'chirag', 2.3, 2)\n"
     ]
    }
   ],
   "source": [
    "print(tuple1[0])\n",
    "print(tuple1[-1])\n",
    "print(tuple1[:2])\n",
    "print(tuple1[::-1])\n"
   ]
  },
  {
   "cell_type": "markdown",
   "metadata": {},
   "source": [
    "# Loops"
   ]
  },
  {
   "cell_type": "markdown",
   "metadata": {},
   "source": [
    "- range"
   ]
  },
  {
   "cell_type": "code",
   "execution_count": 31,
   "metadata": {},
   "outputs": [
    {
     "name": "stdout",
     "output_type": "stream",
     "text": [
      "range(0, 10)\n",
      "[0, 1, 2, 3, 4, 5, 6, 7, 8, 9]\n",
      "range(2, 8)\n",
      "[2, 3, 4, 5, 6, 7]\n",
      "range(2, 8, 2)\n",
      "[2, 4, 6]\n"
     ]
    }
   ],
   "source": [
    "print(range(10))\n",
    "print(list(range(10)))\n",
    "\n",
    "print(range(2,8))\n",
    "print(list(range(2,8)))\n",
    "\n",
    "print(range(2,8,2))\n",
    "print(list(range(2,8,2)))\n"
   ]
  },
  {
   "cell_type": "markdown",
   "metadata": {},
   "source": [
    "\n",
    "## FOR LOOP"
   ]
  },
  {
   "cell_type": "code",
   "execution_count": 34,
   "metadata": {},
   "outputs": [
    {
     "name": "stdout",
     "output_type": "stream",
     "text": [
      "0\n",
      "1\n",
      "2\n",
      "3\n",
      "4\n",
      "5\n",
      "6\n",
      "7\n",
      "8\n",
      "9\n"
     ]
    }
   ],
   "source": [
    "for i in list(range(10)):\n",
    "    print(i)\n",
    "    \n"
   ]
  },
  {
   "cell_type": "code",
   "execution_count": 35,
   "metadata": {},
   "outputs": [
    {
     "name": "stdout",
     "output_type": "stream",
     "text": [
      "0\n",
      "1\n",
      "2\n",
      "3\n",
      "4\n",
      "5\n",
      "6\n",
      "7\n",
      "8\n",
      "9\n"
     ]
    }
   ],
   "source": [
    "for i in range(10):\n",
    "    print(i)\n",
    "    \n"
   ]
  },
  {
   "cell_type": "code",
   "execution_count": 37,
   "metadata": {},
   "outputs": [
    {
     "name": "stdout",
     "output_type": "stream",
     "text": [
      "2,4,6,8,"
     ]
    }
   ],
   "source": [
    "for i in range(2,10,2):\n",
    "    print(i,end=',')"
   ]
  },
  {
   "cell_type": "code",
   "execution_count": 41,
   "metadata": {},
   "outputs": [
    {
     "name": "stdout",
     "output_type": "stream",
     "text": [
      "43\n",
      "3\n",
      "3\n",
      "3\n",
      "31\n"
     ]
    }
   ],
   "source": [
    "list1=[43,3,3,3,31]\n",
    "for i in list1:\n",
    "        print(i)"
   ]
  },
  {
   "cell_type": "code",
   "execution_count": 44,
   "metadata": {},
   "outputs": [
    {
     "name": "stdout",
     "output_type": "stream",
     "text": [
      "chiragsarode\n",
      "asd\n"
     ]
    }
   ],
   "source": [
    "print('chirag','sarode',end='@',sep='') # bydefault end='\\n' and sep=' '\n",
    "print('asd')"
   ]
  },
  {
   "cell_type": "code",
   "execution_count": 47,
   "metadata": {},
   "outputs": [
    {
     "name": "stdout",
     "output_type": "stream",
     "text": [
      "*\n",
      "2\n",
      "*\n",
      "*\n",
      "4\n",
      "*\n",
      "*\n",
      "6\n",
      "*\n",
      "*\n",
      "8\n",
      "*\n",
      "*\n"
     ]
    }
   ],
   "source": [
    "for i in range(1,10):\n",
    "    if i%2==0:\n",
    "        print(i)\n",
    "    print('*')"
   ]
  },
  {
   "cell_type": "code",
   "execution_count": 58,
   "metadata": {},
   "outputs": [
    {
     "name": "stdout",
     "output_type": "stream",
     "text": [
      "2@2 * 4@4 * 6@6 * 8@8 * "
     ]
    }
   ],
   "source": [
    "for i in range(1,10):\n",
    "    if i%2==0:\n",
    "        print(i,i,end=' ',sep ='@')\n",
    "        print('*',end=' ')"
   ]
  },
  {
   "cell_type": "markdown",
   "metadata": {},
   "source": [
    "- While Loop"
   ]
  },
  {
   "cell_type": "code",
   "execution_count": 62,
   "metadata": {},
   "outputs": [
    {
     "name": "stdout",
     "output_type": "stream",
     "text": [
      "0 1 2 3 4 "
     ]
    }
   ],
   "source": [
    "num=0\n",
    "while num<5:\n",
    "    print(num,end=' ')\n",
    "    num+=1"
   ]
  },
  {
   "cell_type": "code",
   "execution_count": 64,
   "metadata": {},
   "outputs": [
    {
     "name": "stdout",
     "output_type": "stream",
     "text": [
      "[1, 2, 3, 4]\n",
      "[1, 2, 3]\n",
      "[1, 2]\n",
      "[1]\n",
      "[]\n"
     ]
    }
   ],
   "source": [
    "list1=[1,2,3,4,5]\n",
    "while len(list1)>0:\n",
    "    del list1[-1]\n",
    "    print(list1)"
   ]
  },
  {
   "cell_type": "code",
   "execution_count": 2,
   "metadata": {},
   "outputs": [
    {
     "ename": "TypeError",
     "evalue": "'str' object doesn't support item deletion",
     "output_type": "error",
     "traceback": [
      "\u001b[1;31m---------------------------------------------------------------------------\u001b[0m",
      "\u001b[1;31mTypeError\u001b[0m                                 Traceback (most recent call last)",
      "\u001b[1;32m<ipython-input-2-748066fab73f>\u001b[0m in \u001b[0;36m<module>\u001b[1;34m\u001b[0m\n\u001b[0;32m      1\u001b[0m \u001b[0mstr1\u001b[0m\u001b[1;33m=\u001b[0m\u001b[1;34m'*****'\u001b[0m\u001b[1;33m\u001b[0m\u001b[1;33m\u001b[0m\u001b[0m\n\u001b[0;32m      2\u001b[0m \u001b[1;32mwhile\u001b[0m \u001b[0mlen\u001b[0m\u001b[1;33m(\u001b[0m\u001b[0mstr1\u001b[0m\u001b[1;33m)\u001b[0m\u001b[1;33m>\u001b[0m\u001b[1;36m0\u001b[0m\u001b[1;33m:\u001b[0m\u001b[1;33m\u001b[0m\u001b[1;33m\u001b[0m\u001b[0m\n\u001b[1;32m----> 3\u001b[1;33m     \u001b[1;32mdel\u001b[0m \u001b[0mstr1\u001b[0m\u001b[1;33m[\u001b[0m\u001b[1;33m-\u001b[0m\u001b[1;36m1\u001b[0m\u001b[1;33m]\u001b[0m\u001b[1;33m\u001b[0m\u001b[1;33m\u001b[0m\u001b[0m\n\u001b[0m\u001b[0;32m      4\u001b[0m     \u001b[0mprint\u001b[0m\u001b[1;33m(\u001b[0m\u001b[0mstr1\u001b[0m\u001b[1;33m)\u001b[0m\u001b[1;33m\u001b[0m\u001b[1;33m\u001b[0m\u001b[0m\n",
      "\u001b[1;31mTypeError\u001b[0m: 'str' object doesn't support item deletion"
     ]
    }
   ],
   "source": [
    "list1=\n",
    "while len(str1)>0:\n",
    "    del str1[-1]\n",
    "    print(str1)"
   ]
  },
  {
   "cell_type": "markdown",
   "metadata": {},
   "source": [
    "## STRING FUNCTIONS"
   ]
  },
  {
   "cell_type": "markdown",
   "metadata": {},
   "source": [
    "- STARTSWITH ENDSWITH"
   ]
  },
  {
   "cell_type": "code",
   "execution_count": 3,
   "metadata": {},
   "outputs": [
    {
     "name": "stdout",
     "output_type": "stream",
     "text": [
      "True\n",
      "False\n",
      "True\n",
      "True\n"
     ]
    }
   ],
   "source": [
    "str1='qwerty abc'\n",
    "print(str1.startswith('qwer'))\n",
    "print(str1.startswith('abc'))\n",
    "\n",
    "print(str1.endswith('abc'))\n",
    "print(str1.endswith('bc'))"
   ]
  },
  {
   "cell_type": "code",
   "execution_count": 4,
   "metadata": {},
   "outputs": [
    {
     "name": "stdout",
     "output_type": "stream",
     "text": [
      "Matched\n"
     ]
    }
   ],
   "source": [
    "if(str1.startswith('qwerty')):\n",
    "    print('Matched')\n",
    "else:\n",
    "     print('Not Matched')"
   ]
  },
  {
   "cell_type": "code",
   "execution_count": 7,
   "metadata": {},
   "outputs": [
    {
     "name": "stdout",
     "output_type": "stream",
     "text": [
      "qwerty abc\n",
      "True\n",
      "True\n"
     ]
    }
   ],
   "source": [
    "print(str1)\n",
    "print(str1.startswith('abc',7)) #this is starting point of comparison \n",
    "print(str1.startswith('abc',7,10)) #firts slices the str from 7to 10-1 and them compares it with abc"
   ]
  },
  {
   "cell_type": "code",
   "execution_count": 17,
   "metadata": {},
   "outputs": [
    {
     "name": "stdout",
     "output_type": "stream",
     "text": [
      "qwerty abc\n",
      "True\n",
      "True\n",
      "False\n",
      "True\n"
     ]
    }
   ],
   "source": [
    "print(str1)\n",
    "print(str1.endswith('abc',-3)) #this is starting point of comparison \n",
    "print(str1.endswith('ab',5,-1)) \n",
    "print(str1.endswith('abc',0,-3)) \n",
    "print(str1.endswith('ab',2,-1)) \n",
    " "
   ]
  },
  {
   "cell_type": "code",
   "execution_count": null,
   "metadata": {},
   "outputs": [],
   "source": []
  },
  {
   "cell_type": "code",
   "execution_count": 21,
   "metadata": {},
   "outputs": [
    {
     "name": "stdout",
     "output_type": "stream",
     "text": [
      "ab\n",
      "0000abc000\n"
     ]
    }
   ],
   "source": [
    "str2='0000abc000'\n",
    "print(str2.strip('0c'))\n",
    "print(str2.strip('a'))"
   ]
  },
  {
   "cell_type": "code",
   "execution_count": 20,
   "metadata": {},
   "outputs": [
    {
     "name": "stdout",
     "output_type": "stream",
     "text": [
      "abc000\n",
      "0000abc000\n"
     ]
    }
   ],
   "source": [
    "str2='0000abc000'\n",
    "print(str2.lstrip('0'))\n",
    "print(str2.lstrip('a'))"
   ]
  },
  {
   "cell_type": "code",
   "execution_count": 19,
   "metadata": {},
   "outputs": [
    {
     "name": "stdout",
     "output_type": "stream",
     "text": [
      "0000abc\n",
      "0000abc000\n"
     ]
    }
   ],
   "source": [
    "str2='0000abc000'\n",
    "print(str2.rstrip('0'))\n",
    "print(str2.rstrip('a'))"
   ]
  },
  {
   "cell_type": "code",
   "execution_count": null,
   "metadata": {},
   "outputs": [],
   "source": []
  }
 ],
 "metadata": {
  "kernelspec": {
   "display_name": "Python 3",
   "language": "python",
   "name": "python3"
  },
  "language_info": {
   "codemirror_mode": {
    "name": "ipython",
    "version": 3
   },
   "file_extension": ".py",
   "mimetype": "text/x-python",
   "name": "python",
   "nbconvert_exporter": "python",
   "pygments_lexer": "ipython3",
   "version": "3.7.3"
  }
 },
 "nbformat": 4,
 "nbformat_minor": 2
}
