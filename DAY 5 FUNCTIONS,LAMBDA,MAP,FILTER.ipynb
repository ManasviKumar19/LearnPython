{
 "cells": [
  {
   "cell_type": "markdown",
   "metadata": {},
   "source": [
    "# Advanced Scipting"
   ]
  },
  {
   "cell_type": "markdown",
   "metadata": {},
   "source": [
    "# Functions"
   ]
  },
  {
   "cell_type": "markdown",
   "metadata": {},
   "source": [
    "- function creation"
   ]
  },
  {
   "cell_type": "code",
   "execution_count": 3,
   "metadata": {},
   "outputs": [
    {
     "name": "stdout",
     "output_type": "stream",
     "text": [
      "8\n"
     ]
    }
   ],
   "source": [
    "def addition():\n",
    "    print(4+4)\n",
    "addition() #call"
   ]
  },
  {
   "cell_type": "markdown",
   "metadata": {},
   "source": [
    "- pasing args"
   ]
  },
  {
   "cell_type": "code",
   "execution_count": 6,
   "metadata": {},
   "outputs": [
    {
     "name": "stdout",
     "output_type": "stream",
     "text": [
      "3\n"
     ]
    }
   ],
   "source": [
    "def addition(a,b):\n",
    "    print(a+b)\n",
    "addition(1,2) #call"
   ]
  },
  {
   "cell_type": "markdown",
   "metadata": {},
   "source": [
    "- return type"
   ]
  },
  {
   "cell_type": "code",
   "execution_count": 12,
   "metadata": {},
   "outputs": [
    {
     "name": "stdout",
     "output_type": "stream",
     "text": [
      "3\n",
      "ab\n"
     ]
    }
   ],
   "source": [
    "def addition(a,b):\n",
    "    return a+b\n",
    "val=addition('a','b') # if string is passed it will be concatenated\n",
    "print(addition(1,2))\n",
    "print(val)"
   ]
  },
  {
   "cell_type": "markdown",
   "metadata": {},
   "source": [
    "- local and global variables"
   ]
  },
  {
   "cell_type": "code",
   "execution_count": 17,
   "metadata": {},
   "outputs": [
    {
     "name": "stdout",
     "output_type": "stream",
     "text": [
      "the value of sum1 is 0\n",
      "the value of sum1 is 5\n",
      "the value of sum1 is 0\n",
      "the value of sum2 is 5\n"
     ]
    }
   ],
   "source": [
    "sum1=0 #global variable\n",
    "\n",
    "print('the value of sum1 is',sum1)\n",
    "\n",
    "def addition(a,b):\n",
    "    sum1=a+b                 #when it inside a funtion it changes to local variable and when function finishes executing sum1\n",
    "    print('the value of sum1 is',sum1) #forgets its local value and the global value is assigned to it\n",
    "    return sum1\n",
    "sum2=addition(2,3)\n",
    "print('the value of sum1 is',sum1)\n",
    "print('the value of sum2 is',sum2)"
   ]
  },
  {
   "cell_type": "markdown",
   "metadata": {},
   "source": [
    "- args and kwargs"
   ]
  },
  {
   "cell_type": "code",
   "execution_count": 24,
   "metadata": {},
   "outputs": [
    {
     "name": "stdout",
     "output_type": "stream",
     "text": [
      "addtn of all given nos is 1\n",
      "addtn of all given nos is 3\n",
      "addtn of all given nos is 6\n"
     ]
    }
   ],
   "source": [
    "def addition(*args):\n",
    "    s=0\n",
    "    for i in args:\n",
    "        s+=i\n",
    "        #print(s, end = ' ')\n",
    "    print('addtn of all given nos is',s)\n",
    "    \n",
    "addition(1)\n",
    "addition(1,2)\n",
    "addition(1,2,3)"
   ]
  },
  {
   "cell_type": "code",
   "execution_count": 30,
   "metadata": {},
   "outputs": [
    {
     "name": "stdout",
     "output_type": "stream",
     "text": [
      "<class 'dict_items'>\n",
      "<class 'dict_items'>\n"
     ]
    }
   ],
   "source": [
    "e={1:2,2:5}\n",
    "for i,j in e.items():\n",
    "    print(type(e.items()))"
   ]
  },
  {
   "cell_type": "markdown",
   "metadata": {},
   "source": [
    "- kwargs\n",
    "it is used when inputs of"
   ]
  },
  {
   "cell_type": "code",
   "execution_count": 35,
   "metadata": {},
   "outputs": [
    {
     "name": "stdout",
     "output_type": "stream",
     "text": [
      "roll 55\n",
      "sport chess\n",
      "name cricket\n",
      "crciket loverrrr\n",
      "************done with reg***************\n",
      "sport lkj\n",
      "name asdf\n",
      "roll a\n",
      "************done with reg***************\n"
     ]
    }
   ],
   "source": [
    "\n",
    "def college(**kwargs):\n",
    "    for i,j in kwargs.items():\n",
    "        print(i,j)\n",
    "        if j=='cricket':\n",
    "            print('crciket loverrrr')\n",
    "    print('************done with reg***************')\n",
    "college(roll=55,sport='chess',name='cricket')\n",
    "college(sport='lkj',name='asdf',roll='a')"
   ]
  },
  {
   "cell_type": "markdown",
   "metadata": {},
   "source": [
    "# check if str2 in present in str1\n",
    "typecast for integers"
   ]
  },
  {
   "cell_type": "code",
   "execution_count": 1,
   "metadata": {},
   "outputs": [
    {
     "name": "stdout",
     "output_type": "stream",
     "text": [
      "yes\n"
     ]
    }
   ],
   "source": [
    "a='123345'#\n",
    "b='2334'\n",
    "if b in a:\n",
    "    print('yes')"
   ]
  },
  {
   "cell_type": "markdown",
   "metadata": {},
   "source": [
    "# LAMBDA,MAP,FILTER"
   ]
  },
  {
   "cell_type": "code",
   "execution_count": 3,
   "metadata": {},
   "outputs": [
    {
     "name": "stdout",
     "output_type": "stream",
     "text": [
      "7\n",
      "3\n"
     ]
    }
   ],
   "source": [
    "def myfun(a,b):\n",
    "    return a+b\n",
    "val=myfun(3,4)\n",
    "print(val)\n",
    "\n",
    "#lambda\n",
    "val=lambda x,y: x+y\n",
    "print(val(1,2))"
   ]
  },
  {
   "cell_type": "markdown",
   "metadata": {},
   "source": [
    "# map"
   ]
  },
  {
   "cell_type": "code",
   "execution_count": 4,
   "metadata": {},
   "outputs": [
    {
     "data": {
      "text/plain": [
       "[0, 1, 4, 9, 16, 25, 36, 49, 64, 81]"
      ]
     },
     "execution_count": 4,
     "metadata": {},
     "output_type": "execute_result"
    }
   ],
   "source": [
    "list(map(lambda x:x**2,range(10))) #map madhe equation"
   ]
  },
  {
   "cell_type": "markdown",
   "metadata": {},
   "source": [
    "# filter"
   ]
  },
  {
   "cell_type": "code",
   "execution_count": 5,
   "metadata": {},
   "outputs": [
    {
     "data": {
      "text/plain": [
       "[6, 7, 8, 9]"
      ]
     },
     "execution_count": 5,
     "metadata": {},
     "output_type": "execute_result"
    }
   ],
   "source": [
    "list(filter(lambda a:a>5,range(10))) #filter madhe condition"
   ]
  },
  {
   "cell_type": "code",
   "execution_count": null,
   "metadata": {},
   "outputs": [],
   "source": []
  }
 ],
 "metadata": {
  "kernelspec": {
   "display_name": "Python 3",
   "language": "python",
   "name": "python3"
  },
  "language_info": {
   "codemirror_mode": {
    "name": "ipython",
    "version": 3
   },
   "file_extension": ".py",
   "mimetype": "text/x-python",
   "name": "python",
   "nbconvert_exporter": "python",
   "pygments_lexer": "ipython3",
   "version": "3.7.3"
  }
 },
 "nbformat": 4,
 "nbformat_minor": 2
}
