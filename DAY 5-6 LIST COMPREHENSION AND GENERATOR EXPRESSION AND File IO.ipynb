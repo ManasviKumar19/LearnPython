{
 "cells": [
  {
   "cell_type": "code",
   "execution_count": 2,
   "metadata": {},
   "outputs": [
    {
     "name": "stdout",
     "output_type": "stream",
     "text": [
      "[0, 1, 4, 9, 16, 25, 36, 49, 64, 81]\n"
     ]
    }
   ],
   "source": [
    "#traditional method\n",
    "squares=[]\n",
    "for i in range(10):\n",
    "    squares.append(i**2)\n",
    "print(squares)"
   ]
  },
  {
   "cell_type": "code",
   "execution_count": 3,
   "metadata": {},
   "outputs": [
    {
     "name": "stdout",
     "output_type": "stream",
     "text": [
      "[0, 1, 4, 9, 16, 25, 36, 49, 64, 81]\n",
      "[0, 4, 16, 36, 64]\n"
     ]
    }
   ],
   "source": [
    "# List comprehension\n",
    "squares1=[x**2 for x in range(10)]\n",
    "print(squares1)\n",
    "squares2=[x**2 for x in range(10) if x%2==0]  #only even\n",
    "print(squares2)"
   ]
  },
  {
   "cell_type": "code",
   "execution_count": 6,
   "metadata": {},
   "outputs": [
    {
     "name": "stdout",
     "output_type": "stream",
     "text": [
      "[0, 2, 4, 6, 8]\n",
      "[1, 3, 5, 7, 9]\n"
     ]
    }
   ],
   "source": [
    "print([x for x in range (10) if x%2==0]) #list of even nos from 0 to 10\n",
    "print([x for x in range (10) if x%2==1])\n"
   ]
  },
  {
   "cell_type": "markdown",
   "metadata": {},
   "source": [
    "# short but sweeet|"
   ]
  },
  {
   "cell_type": "code",
   "execution_count": 8,
   "metadata": {},
   "outputs": [
    {
     "name": "stdout",
     "output_type": "stream",
     "text": [
      "['HELLO', 'WORLD', 'VHG']\n"
     ]
    }
   ],
   "source": [
    "list1=['hello','worLD','vhg']\n",
    "list2=[i.upper() for i in list1]\n",
    "print(list2)"
   ]
  },
  {
   "cell_type": "code",
   "execution_count": 9,
   "metadata": {},
   "outputs": [
    {
     "name": "stdout",
     "output_type": "stream",
     "text": [
      "[[1, 2], [1, 3], [1, 4], [2, 2], [2, 3], [2, 4], [3, 2], [3, 3], [3, 4]]\n"
     ]
    }
   ],
   "source": [
    "u=[[i,j] for i in [1,2,3] for j in [2,3,4]]\n",
    "print(u)"
   ]
  },
  {
   "cell_type": "code",
   "execution_count": 10,
   "metadata": {},
   "outputs": [
    {
     "name": "stdout",
     "output_type": "stream",
     "text": [
      "[[2, 2], [3, 3]]\n"
     ]
    }
   ],
   "source": [
    "u=[[i,j] for i in [1,2,3] for j in [2,3,4] if i==j]\n",
    "print(u)"
   ]
  },
  {
   "cell_type": "code",
   "execution_count": 11,
   "metadata": {},
   "outputs": [
    {
     "name": "stdout",
     "output_type": "stream",
     "text": [
      "[[1, 2], [1, 3], [1, 4], [2, 3], [2, 4], [3, 2], [3, 4]]\n"
     ]
    }
   ],
   "source": [
    "u=[[i,j] for i in [1,2,3] for j in [2,3,4] if i!=j] #list of lists\n",
    "print(u)"
   ]
  },
  {
   "cell_type": "markdown",
   "metadata": {},
   "source": [
    "change the brackets to store as a tuple or a dictionary"
   ]
  },
  {
   "cell_type": "code",
   "execution_count": 14,
   "metadata": {},
   "outputs": [
    {
     "name": "stdout",
     "output_type": "stream",
     "text": [
      "[(1, 2), (1, 3), (1, 4), (2, 3), (2, 4), (3, 2), (3, 4)]\n",
      "[{1: 2}, {1: 3}, {1: 4}, {2: 3}, {2: 4}, {3: 2}, {3: 4}]\n"
     ]
    }
   ],
   "source": [
    "u=[(i,j) for i in [1,2,3] for j in [2,3,4] if i!=j] #list of tuples\n",
    "print(u)\n",
    "u=[{i:j} for i in [1,2,3] for j in [2,3,4] if i!=j] #list of dictionaries\n",
    "print(u)"
   ]
  },
  {
   "cell_type": "markdown",
   "metadata": {},
   "source": [
    "# Generator Expression"
   ]
  },
  {
   "cell_type": "code",
   "execution_count": 18,
   "metadata": {},
   "outputs": [
    {
     "name": "stdout",
     "output_type": "stream",
     "text": [
      "100\n",
      "64\n",
      "0\n",
      "1\n",
      "4\n",
      "9\n",
      "16\n",
      "25\n",
      "36\n",
      "49\n",
      "64\n",
      "81\n"
     ]
    }
   ],
   "source": [
    "from sys import getsizeof\n",
    "squares=[x**2 for x in range(10)] #normal: it stores the full list in memory\n",
    "print(getsizeof(squares))\n",
    "\n",
    "squaresgen=(x**2 for x in range(10))#generator: it only stores the algorithm by which the operation will be perfomed\n",
    "print(getsizeof(squaresgen))\n",
    "\n",
    "for i in squaresgen:\n",
    "    print(i)"
   ]
  },
  {
   "cell_type": "markdown",
   "metadata": {},
   "source": [
    "# FILE I/O Oprations"
   ]
  },
  {
   "cell_type": "markdown",
   "metadata": {},
   "source": [
    "## Initial ops"
   ]
  },
  {
   "cell_type": "code",
   "execution_count": 2,
   "metadata": {},
   "outputs": [
    {
     "name": "stdout",
     "output_type": "stream",
     "text": [
      "textfile.txt\n",
      "r\n",
      "False\n",
      "True\n"
     ]
    }
   ],
   "source": [
    "fo=open(\"textfile.txt\",'r')\n",
    "print(fo.name)\n",
    "print(fo.mode)\n",
    "print(fo.closed)\n",
    "fo.close()\n",
    "print(fo.closed)\n"
   ]
  },
  {
   "cell_type": "code",
   "execution_count": 4,
   "metadata": {},
   "outputs": [
    {
     "name": "stdout",
     "output_type": "stream",
     "text": [
      "D:/chirag/textfile.txt\n",
      "r\n",
      "False\n",
      "True\n"
     ]
    }
   ],
   "source": [
    "fo=open(\"D:/chirag/textfile.txt\",'r') #forword slash \n",
    "print(fo.name)\n",
    "print(fo.mode)\n",
    "print(fo.closed)\n",
    "fo.close()\n",
    "print(fo.closed)\n"
   ]
  },
  {
   "cell_type": "markdown",
   "metadata": {},
   "source": [
    "## write"
   ]
  },
  {
   "cell_type": "code",
   "execution_count": 9,
   "metadata": {},
   "outputs": [],
   "source": [
    "fo=open(\"textfile.txt\",'w')\n",
    "fo.write('this is my file. \\nthis is second sentence')\n",
    "fo.close()"
   ]
  },
  {
   "cell_type": "markdown",
   "metadata": {},
   "source": [
    "## read"
   ]
  },
  {
   "cell_type": "code",
   "execution_count": 10,
   "metadata": {},
   "outputs": [
    {
     "name": "stdout",
     "output_type": "stream",
     "text": [
      "this is my file. \n",
      "this is second sentence\n",
      "<class 'str'>\n"
     ]
    }
   ],
   "source": [
    "fo=open('textfile.txt','r')\n",
    "str1=fo.read()\n",
    "print(str1)\n",
    "fo.close()\n",
    "print(type(str1))"
   ]
  },
  {
   "cell_type": "code",
   "execution_count": 11,
   "metadata": {},
   "outputs": [
    {
     "name": "stdout",
     "output_type": "stream",
     "text": [
      "this is my\n"
     ]
    }
   ],
   "source": [
    "fo=open('textfile.txt','r')\n",
    "str1=fo.read(10)  # it will only read the fisrt 10 elemts of the file\n",
    "print(str1)\n",
    "fo.close()"
   ]
  },
  {
   "cell_type": "code",
   "execution_count": 17,
   "metadata": {},
   "outputs": [
    {
     "name": "stdout",
     "output_type": "stream",
     "text": [
      "this is my file. \n",
      "\n",
      "this is second sentence\n"
     ]
    }
   ],
   "source": [
    "fo=open('textfile.txt','r')\n",
    "str1=fo.readline()  # it will only read the fisrt line\n",
    "print(str1)\n",
    "str1=fo.readline()  # it will only read the second line\n",
    "print(str1)\n",
    "fo.close()"
   ]
  },
  {
   "cell_type": "code",
   "execution_count": 23,
   "metadata": {},
   "outputs": [
    {
     "name": "stdout",
     "output_type": "stream",
     "text": [
      "['this is my file. \\n', 'this is second sentence']\n"
     ]
    }
   ],
   "source": [
    "fo=open('textfile.txt','r')\n",
    "str1=fo.readlines()\n",
    "print(str1)\n",
    "fo.close()"
   ]
  },
  {
   "cell_type": "markdown",
   "metadata": {},
   "source": [
    "## APPEND"
   ]
  },
  {
   "cell_type": "code",
   "execution_count": 26,
   "metadata": {},
   "outputs": [],
   "source": [
    "fo=open(\"textfile.txt\",'a')\n",
    "fo.write('\\nthis is third appended line')\n",
    "fo.close()"
   ]
  },
  {
   "cell_type": "code",
   "execution_count": null,
   "metadata": {},
   "outputs": [],
   "source": []
  }
 ],
 "metadata": {
  "kernelspec": {
   "display_name": "Python 3",
   "language": "python",
   "name": "python3"
  },
  "language_info": {
   "codemirror_mode": {
    "name": "ipython",
    "version": 3
   },
   "file_extension": ".py",
   "mimetype": "text/x-python",
   "name": "python",
   "nbconvert_exporter": "python",
   "pygments_lexer": "ipython3",
   "version": "3.7.3"
  }
 },
 "nbformat": 4,
 "nbformat_minor": 2
}
