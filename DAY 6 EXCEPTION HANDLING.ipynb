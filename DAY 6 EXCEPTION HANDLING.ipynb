{
 "cells": [
  {
   "cell_type": "code",
   "execution_count": 1,
   "metadata": {},
   "outputs": [
    {
     "name": "stdout",
     "output_type": "stream",
     "text": [
      "cant concatenate\n"
     ]
    }
   ],
   "source": [
    "try:\n",
    "    print(2+'abc')\n",
    "except TypeError:\n",
    "    print('cant concatenate')\n",
    "else:\n",
    "    print('no error')"
   ]
  },
  {
   "cell_type": "code",
   "execution_count": 3,
   "metadata": {},
   "outputs": [
    {
     "name": "stdout",
     "output_type": "stream",
     "text": [
      "abc\n",
      "no error\n"
     ]
    }
   ],
   "source": [
    "try:\n",
    "    print('abc')\n",
    "except TypeError:\n",
    "    print('cant concatenate')\n",
    "else:\n",
    "    print('no error')    #it will execute if no exception has arised"
   ]
  },
  {
   "cell_type": "code",
   "execution_count": 4,
   "metadata": {},
   "outputs": [
    {
     "name": "stdout",
     "output_type": "stream",
     "text": [
      "abc\n",
      "no error\n",
      "end of the code\n"
     ]
    }
   ],
   "source": [
    "try:\n",
    "    print('abc')\n",
    "except TypeError:\n",
    "    print('cant concatenate')\n",
    "else:\n",
    "    print('no error')\n",
    "finally:\n",
    "    print('end of the code') #it will always execute"
   ]
  },
  {
   "cell_type": "code",
   "execution_count": 5,
   "metadata": {},
   "outputs": [
    {
     "name": "stdout",
     "output_type": "stream",
     "text": [
      "file does not exixt\n"
     ]
    }
   ],
   "source": [
    "try:\n",
    "    fo=open('abc.txt','r')\n",
    "except FileNotFoundError:\n",
    "    print('file does not exixt')"
   ]
  },
  {
   "cell_type": "code",
   "execution_count": 9,
   "metadata": {},
   "outputs": [
    {
     "name": "stdout",
     "output_type": "stream",
     "text": [
      "cant concatenate\n"
     ]
    }
   ],
   "source": [
    "try:\n",
    "    print(2+'hello')\n",
    "   # file=open('abc.txt','r')\n",
    "except TypeError:\n",
    "    print('cant concatenate')\n",
    "except FileNotFoundError:\n",
    "    print('file does not exist')"
   ]
  },
  {
   "cell_type": "code",
   "execution_count": 10,
   "metadata": {},
   "outputs": [
    {
     "name": "stdout",
     "output_type": "stream",
     "text": [
      "file does not exist\n"
     ]
    }
   ],
   "source": [
    "try:\n",
    "  #  print(2+'hello')\n",
    "    file=open('abc.txt','r')\n",
    "except TypeError:\n",
    "    print('cant concatenate')\n",
    "except FileNotFoundError:\n",
    "    print('file does not exist')"
   ]
  },
  {
   "cell_type": "code",
   "execution_count": 12,
   "metadata": {},
   "outputs": [
    {
     "name": "stdout",
     "output_type": "stream",
     "text": [
      "zero division\n"
     ]
    }
   ],
   "source": [
    "try:\n",
    "    print(1/0 + 'abc')\n",
    "except TypeError:\n",
    "    print('cant concatenate')\n",
    "except ZeroDivisionError:\n",
    "    print('zero division')\n",
    "    "
   ]
  },
  {
   "cell_type": "code",
   "execution_count": null,
   "metadata": {},
   "outputs": [],
   "source": []
  }
 ],
 "metadata": {
  "kernelspec": {
   "display_name": "Python 3",
   "language": "python",
   "name": "python3"
  },
  "language_info": {
   "codemirror_mode": {
    "name": "ipython",
    "version": 3
   },
   "file_extension": ".py",
   "mimetype": "text/x-python",
   "name": "python",
   "nbconvert_exporter": "python",
   "pygments_lexer": "ipython3",
   "version": "3.7.3"
  }
 },
 "nbformat": 4,
 "nbformat_minor": 2
}
