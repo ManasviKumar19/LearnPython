{
 "cells": [
  {
   "cell_type": "code",
   "execution_count": 1,
   "metadata": {},
   "outputs": [
    {
     "data": {
      "text/plain": [
       "'1.16.4'"
      ]
     },
     "execution_count": 1,
     "metadata": {},
     "output_type": "execute_result"
    }
   ],
   "source": [
    "import numpy\n",
    "numpy.__version__"
   ]
  },
  {
   "cell_type": "code",
   "execution_count": 2,
   "metadata": {},
   "outputs": [],
   "source": [
    "import numpy as np\n",
    "a=np.array([1,2,3,4,5])"
   ]
  },
  {
   "cell_type": "code",
   "execution_count": 3,
   "metadata": {},
   "outputs": [
    {
     "name": "stdout",
     "output_type": "stream",
     "text": [
      "[1 2 3 4 5]\n",
      "<class 'numpy.ndarray'>\n",
      "(5,)\n",
      "int32\n"
     ]
    }
   ],
   "source": [
    "print(a)\n",
    "print(type(a))\n",
    "print(a.shape)\n",
    "print(a.dtype)"
   ]
  },
  {
   "cell_type": "code",
   "execution_count": 4,
   "metadata": {},
   "outputs": [
    {
     "name": "stdout",
     "output_type": "stream",
     "text": [
      "1\n"
     ]
    }
   ],
   "source": [
    "print(a[0])"
   ]
  },
  {
   "cell_type": "code",
   "execution_count": 5,
   "metadata": {},
   "outputs": [
    {
     "name": "stdout",
     "output_type": "stream",
     "text": [
      "[ 1  2  3 99  5]\n"
     ]
    }
   ],
   "source": [
    "a[3]=99\n",
    "print(a)"
   ]
  },
  {
   "cell_type": "code",
   "execution_count": null,
   "metadata": {},
   "outputs": [],
   "source": []
  },
  {
   "cell_type": "markdown",
   "metadata": {},
   "source": [
    " # MATRIX CREATION "
   ]
  },
  {
   "cell_type": "markdown",
   "metadata": {},
   "source": [
    "## No of sublists is the number of rows and the number of elements in one sublist is number of columns"
   ]
  },
  {
   "cell_type": "code",
   "execution_count": 6,
   "metadata": {},
   "outputs": [
    {
     "name": "stdout",
     "output_type": "stream",
     "text": [
      "[[1]\n",
      " [2]\n",
      " [3]\n",
      " [4]]\n",
      "(4, 1)\n"
     ]
    }
   ],
   "source": [
    "a= np.array([[1],[2],[3],[4]])\n",
    "print(a)\n",
    "print(a.shape)"
   ]
  },
  {
   "cell_type": "code",
   "execution_count": 7,
   "metadata": {},
   "outputs": [
    {
     "name": "stdout",
     "output_type": "stream",
     "text": [
      "[[1 2 3 4]]\n",
      "(1, 4)\n"
     ]
    }
   ],
   "source": [
    "a=np.array([[1,2,3,4]])\n",
    "print(a)\n",
    "print(a.shape)"
   ]
  },
  {
   "cell_type": "code",
   "execution_count": 8,
   "metadata": {},
   "outputs": [
    {
     "name": "stdout",
     "output_type": "stream",
     "text": [
      "[[1 2 3 4]\n",
      " [5 6 7 8]]\n",
      "(2, 4)\n"
     ]
    }
   ],
   "source": [
    "a=np.array([[1,2,3,4],[5,6,7,8]])\n",
    "print(a)\n",
    "print(a.shape)"
   ]
  },
  {
   "cell_type": "markdown",
   "metadata": {},
   "source": [
    "## Indexing of a Matrix"
   ]
  },
  {
   "cell_type": "code",
   "execution_count": 9,
   "metadata": {},
   "outputs": [
    {
     "name": "stdout",
     "output_type": "stream",
     "text": [
      "[[1 2 3 4]\n",
      " [5 6 7 8]]\n",
      "4\n",
      "[[ 1  2  3  4]\n",
      " [ 5 99  7  8]]\n"
     ]
    }
   ],
   "source": [
    "a=np.array([[1,2,3,4],[5,6,7,8]])\n",
    "print(a)\n",
    "print(a[0,3])\n",
    "a[1,1]=99\n",
    "print(a)"
   ]
  },
  {
   "cell_type": "markdown",
   "metadata": {},
   "source": [
    "## creating a list first and then passing it to the array function"
   ]
  },
  {
   "cell_type": "code",
   "execution_count": 10,
   "metadata": {},
   "outputs": [
    {
     "name": "stdout",
     "output_type": "stream",
     "text": [
      "[1 2 3 4]\n",
      "(4,)\n",
      "[[1 2 3]\n",
      " [4 5 6]]\n",
      "(2, 3)\n"
     ]
    }
   ],
   "source": [
    "list1=[1,2,3,4]\n",
    "list2=[[1,2,3],[4,5,6]]\n",
    "\n",
    "a=np.array(list1)\n",
    "print(a)\n",
    "print(a.shape)\n",
    "\n",
    "a=np.array(list2)\n",
    "print(a)\n",
    "print(a.shape)\n",
    "\n"
   ]
  },
  {
   "cell_type": "code",
   "execution_count": null,
   "metadata": {},
   "outputs": [],
   "source": []
  },
  {
   "cell_type": "markdown",
   "metadata": {},
   "source": [
    "## Array Functions"
   ]
  },
  {
   "cell_type": "code",
   "execution_count": 11,
   "metadata": {},
   "outputs": [
    {
     "name": "stdout",
     "output_type": "stream",
     "text": [
      "[ 1  2  3  4  5  6  7  8  9 10]\n",
      "[[ 1  2  3  4  5]\n",
      " [ 6  7  8  9 10]]\n",
      "[[ 1  2  3  4  5  6  7  8  9 10]]\n",
      "[[ 1  2]\n",
      " [ 3  4]\n",
      " [ 5  6]\n",
      " [ 7  8]\n",
      " [ 9 10]]\n",
      "[[ 1  2  3  4  5  6  7  8  9 10]]\n"
     ]
    }
   ],
   "source": [
    "list1=[1,2,3,4,5,6,7,8,9,10]\n",
    "a=np.array(list1)\n",
    "print(a)\n",
    "print(a.reshape(2,5))\n",
    "print(a.reshape(1,10)) # it will covert any dimesnion matrix into 2 dim matrix\n",
    "print(a.reshape(-12,2)) # if you write a negative value then it will only care about the columns\n",
    "print(a.reshape(1,-23)) #vica versa"
   ]
  },
  {
   "cell_type": "markdown",
   "metadata": {},
   "source": [
    "## Ravel - It converts any dim matrix into 1 dim array(linearizes it to og 1D array form)"
   ]
  },
  {
   "cell_type": "code",
   "execution_count": 12,
   "metadata": {},
   "outputs": [
    {
     "name": "stdout",
     "output_type": "stream",
     "text": [
      "[ 1  2  3  4  5  6  7  8  9 10]\n",
      "[[ 1  2  3  4  5]\n",
      " [ 6  7  8  9 10]]\n",
      "[ 1  2  3  4  5  6  7  8  9 10]\n"
     ]
    }
   ],
   "source": [
    "list1=[1,2,3,4,5,6,7,8,9,10]\n",
    "a=np.array(list1)\n",
    "print(a)\n",
    "b=a.reshape(2,5)\n",
    "print(b)\n",
    "print(b.ravel())"
   ]
  },
  {
   "cell_type": "markdown",
   "metadata": {},
   "source": [
    "## tolist - coverts 1d array into og list and 2d matrix into list of lists"
   ]
  },
  {
   "cell_type": "code",
   "execution_count": 13,
   "metadata": {},
   "outputs": [
    {
     "name": "stdout",
     "output_type": "stream",
     "text": [
      "[ 1  2  3  4  5  6  7  8  9 10]\n",
      "<class 'numpy.ndarray'>\n",
      "[1, 2, 3, 4, 5, 6, 7, 8, 9, 10]\n",
      "<class 'list'>\n"
     ]
    }
   ],
   "source": [
    "list1=[1,2,3,4,5,6,7,8,9,10]\n",
    "a=np.array(list1)\n",
    "print(a)\n",
    "print(type(a))\n",
    "\n",
    "b=a.tolist()\n",
    "print(b)\n",
    "print(type(b))"
   ]
  },
  {
   "cell_type": "code",
   "execution_count": 14,
   "metadata": {},
   "outputs": [
    {
     "name": "stdout",
     "output_type": "stream",
     "text": [
      "[[ 1  2  3  4  5]\n",
      " [ 6  7  8  9 10]]\n",
      "<class 'numpy.ndarray'>\n",
      "[[1, 2, 3, 4, 5], [6, 7, 8, 9, 10]]\n",
      "<class 'list'>\n"
     ]
    }
   ],
   "source": [
    "list1=[[1,2,3,4,5],[6,7,8,9,10]]\n",
    "a=np.array(list1)\n",
    "print(a)\n",
    "print(type(a))\n",
    "\n",
    "b=a.tolist()\n",
    "print(b)\n",
    "print(type(b))"
   ]
  },
  {
   "cell_type": "code",
   "execution_count": 15,
   "metadata": {},
   "outputs": [
    {
     "name": "stdout",
     "output_type": "stream",
     "text": [
      "[ 1  2  3  4  5  6  7  8  9 10]\n",
      "<class 'numpy.ndarray'>\n"
     ]
    }
   ],
   "source": [
    "list1=(1,2,3,4,5,6,7,8,9,10)\n",
    "a=np.array(list1)\n",
    "print(a)\n",
    "print(type(a))"
   ]
  },
  {
   "cell_type": "code",
   "execution_count": 16,
   "metadata": {},
   "outputs": [
    {
     "name": "stdout",
     "output_type": "stream",
     "text": [
      "[1 2]\n",
      "int32\n",
      "[1.2 2. ]\n",
      "float64\n",
      "[1. 2.]\n",
      "float64\n"
     ]
    }
   ],
   "source": [
    "z=np.array([1,2])\n",
    "print(z)\n",
    "print(z.dtype)\n",
    "z=np.array([1.2,2])\n",
    "print(z)\n",
    "print(z.dtype)\n",
    "z=np.array([1,2],dtype=float)  #int into float or dtype=int for ulta\n",
    "print(z)\n",
    "print(z.dtype)"
   ]
  },
  {
   "cell_type": "code",
   "execution_count": 17,
   "metadata": {},
   "outputs": [],
   "source": [
    "## Frequently used arrays\n"
   ]
  },
  {
   "cell_type": "code",
   "execution_count": 18,
   "metadata": {},
   "outputs": [
    {
     "name": "stdout",
     "output_type": "stream",
     "text": [
      "[[0. 0. 0.]\n",
      " [0. 0. 0.]]\n",
      "float64\n",
      "[[1. 1. 1.]\n",
      " [1. 1. 1.]]\n",
      "float64\n",
      "[[0 0 0]\n",
      " [0 0 0]]\n",
      "int32\n"
     ]
    }
   ],
   "source": [
    "\n",
    "a=np.zeros((2,3))\n",
    "print(a)\n",
    "print(a.dtype)\n",
    "\n",
    "a=np.ones((2,3))\n",
    "print(a)\n",
    "print(a.dtype)\n",
    "\n",
    "\n",
    "a=np.zeros((2,3),dtype=int)\n",
    "print(a)\n",
    "print(a.dtype)"
   ]
  },
  {
   "cell_type": "code",
   "execution_count": 19,
   "metadata": {},
   "outputs": [
    {
     "name": "stdout",
     "output_type": "stream",
     "text": [
      "[[4 4 4]\n",
      " [4 4 4]]\n",
      "int32\n",
      "[[4. 4. 4.]\n",
      " [4. 4. 4.]]\n",
      "float64\n",
      "[[0 0 0]\n",
      " [0 0 0]]\n",
      "int32\n",
      "[[0. 0. 0.]\n",
      " [0. 0. 0.]]\n",
      "float64\n"
     ]
    }
   ],
   "source": [
    "# MATRIX FULL OF 0 OR 1 OR ANY NUMBER\n",
    "\n",
    "a=np.full((2,3),4)\n",
    "print(a)\n",
    "print(a.dtype)\n",
    "\n",
    "a=np.full((2,3),4.)\n",
    "print(a)\n",
    "print(a.dtype)\n",
    "\n",
    "a=np.full((2,3),0)\n",
    "print(a)\n",
    "print(a.dtype)\n",
    "\n",
    "a=np.full((2,3),0,dtype=float)\n",
    "print(a)\n",
    "print(a.dtype)"
   ]
  },
  {
   "cell_type": "code",
   "execution_count": 20,
   "metadata": {},
   "outputs": [
    {
     "name": "stdout",
     "output_type": "stream",
     "text": [
      "[[1. 0. 0.]\n",
      " [0. 1. 0.]\n",
      " [0. 0. 1.]]\n",
      "[[1 0 0]\n",
      " [0 1 0]\n",
      " [0 0 1]]\n"
     ]
    }
   ],
   "source": [
    "# IDENTITY MATRIX GENERATION\n",
    "a=np.eye(3)\n",
    "print(a)\n",
    "\n",
    "a=np.eye(3,dtype=int)\n",
    "print(a)"
   ]
  },
  {
   "cell_type": "code",
   "execution_count": 21,
   "metadata": {},
   "outputs": [],
   "source": [
    "# RANDOM MATRIX GENERATION"
   ]
  },
  {
   "cell_type": "code",
   "execution_count": 22,
   "metadata": {},
   "outputs": [
    {
     "name": "stdout",
     "output_type": "stream",
     "text": [
      "[[0.08512441 0.90216509 0.785348  ]\n",
      " [0.57247943 0.56085767 0.37967356]\n",
      " [0.99289188 0.9411939  0.91825603]]\n",
      "[[9 7 6]\n",
      " [6 7 7]\n",
      " [9 8 5]]\n"
     ]
    }
   ],
   "source": [
    "a=np.random.random((3,3))\n",
    "print(a)\n",
    "\n",
    "\n",
    "a=np.random.randint(5,10,size=(3,3))\n",
    "print(a)"
   ]
  },
  {
   "cell_type": "markdown",
   "metadata": {},
   "source": [
    "## Array slicing"
   ]
  },
  {
   "cell_type": "code",
   "execution_count": 23,
   "metadata": {},
   "outputs": [
    {
     "name": "stdout",
     "output_type": "stream",
     "text": [
      "[[1 2 3 4]\n",
      " [4 5 6 7]\n",
      " [7 8 9 4]]\n",
      "[[2 3]\n",
      " [5 6]]\n"
     ]
    }
   ],
   "source": [
    "a=[[1,2,3,4],[4,5,6,7],[7,8,9,4]]\n",
    "a=np.array(a)\n",
    "print(a)\n",
    "print(a[0:2,1:3])"
   ]
  },
  {
   "cell_type": "code",
   "execution_count": 24,
   "metadata": {},
   "outputs": [
    {
     "name": "stdout",
     "output_type": "stream",
     "text": [
      "[[1 2 3 4]\n",
      " [4 5 6 7]\n",
      " [7 8 9 4]]\n",
      "[[1 2 3]]\n",
      "[[1 2 3]]\n"
     ]
    }
   ],
   "source": [
    "print(a)\n",
    "print(a[0:1,0:3])\n",
    "print(a[:1,:-1])"
   ]
  },
  {
   "cell_type": "code",
   "execution_count": 25,
   "metadata": {},
   "outputs": [
    {
     "name": "stdout",
     "output_type": "stream",
     "text": [
      "[[1 2 3 4]\n",
      " [4 5 6 7]\n",
      " [7 8 9 4]]\n",
      "[[2 4]\n",
      " [8 4]]\n",
      "[[2 4]\n",
      " [8 4]]\n"
     ]
    }
   ],
   "source": [
    "print(a)\n",
    "print(a[0:3:2,1:4:2])\n",
    "print(a[::2,1::2])"
   ]
  },
  {
   "cell_type": "code",
   "execution_count": 26,
   "metadata": {},
   "outputs": [
    {
     "name": "stdout",
     "output_type": "stream",
     "text": [
      "[[1 2 3 4]\n",
      " [4 5 6 7]\n",
      " [7 8 9 4]]\n",
      "[[2 4]\n",
      " [8 4]]\n",
      "[[89999     4]\n",
      " [    8     4]]\n",
      "[[    1 89999     3     4]\n",
      " [    4     5     6     7]\n",
      " [    7     8     9     4]]\n"
     ]
    }
   ],
   "source": [
    "#CHANGES IN THE SUBMATRIX WILL ALSO REFLECT IN PARENT MATRIX\n",
    "a=[[1,2,3,4],[4,5,6,7],[7,8,9,4]]\n",
    "a=np.array(a)\n",
    "print(a)\n",
    "b=a[0:3:2,1:4:2]\n",
    "print(b)\n",
    "b[0,0]=89999\n",
    "print(b)\n",
    "print(a)"
   ]
  },
  {
   "cell_type": "code",
   "execution_count": 27,
   "metadata": {},
   "outputs": [
    {
     "name": "stdout",
     "output_type": "stream",
     "text": [
      "[[1 2 3 4]\n",
      " [4 5 6 7]\n",
      " [7 8 9 4]]\n",
      "[[2 4]\n",
      " [8 4]]\n",
      "[[89999     4]\n",
      " [    8     4]]\n",
      "[[    1 89999     3     4]\n",
      " [    4     5     6     7]\n",
      " [    7     8     9     4]]\n"
     ]
    }
   ],
   "source": [
    "a=[[1,2,3,4],[4,5,6,7],[7,8,9,4]]\n",
    "a=np.array(a)\n",
    "print(a)\n",
    "b=a[0:3:2,1:4:2]\n",
    "c=b\n",
    "print(b)\n",
    "c[0,0]=89999\n",
    "print(c)\n",
    "print(a)"
   ]
  },
  {
   "cell_type": "code",
   "execution_count": 31,
   "metadata": {},
   "outputs": [
    {
     "name": "stdout",
     "output_type": "stream",
     "text": [
      "[[1 2 3 4]\n",
      " [4 5 6 7]\n",
      " [7 8 9 4]]\n",
      "*********************************************\n",
      "[[1 2 4]\n",
      " [4 5 7]]\n"
     ]
    }
   ],
   "source": [
    "a=[[1,2,3,4],[4,5,6,7],[7,8,9,4]]\n",
    "a=np.array(a)\n",
    "print(a)\n",
    "print('*********************************************')\n",
    "print(a[0:2,[0,1,3]])"
   ]
  },
  {
   "cell_type": "code",
   "execution_count": 32,
   "metadata": {},
   "outputs": [],
   "source": [
    "# ELEMENTS GREATER THAN A SPECIFIC VALUE FROM A MATRIX"
   ]
  },
  {
   "cell_type": "code",
   "execution_count": 1,
   "metadata": {},
   "outputs": [
    {
     "ename": "NameError",
     "evalue": "name 'np' is not defined",
     "output_type": "error",
     "traceback": [
      "\u001b[1;31m---------------------------------------------------------------------------\u001b[0m",
      "\u001b[1;31mNameError\u001b[0m                                 Traceback (most recent call last)",
      "\u001b[1;32m<ipython-input-1-79af6cee02b1>\u001b[0m in \u001b[0;36m<module>\u001b[1;34m\u001b[0m\n\u001b[0;32m      1\u001b[0m \u001b[0ma\u001b[0m\u001b[1;33m=\u001b[0m\u001b[1;33m[\u001b[0m\u001b[1;33m[\u001b[0m\u001b[1;36m1\u001b[0m\u001b[1;33m,\u001b[0m\u001b[1;36m2\u001b[0m\u001b[1;33m,\u001b[0m\u001b[1;36m3\u001b[0m\u001b[1;33m,\u001b[0m\u001b[1;36m4\u001b[0m\u001b[1;33m]\u001b[0m\u001b[1;33m,\u001b[0m\u001b[1;33m[\u001b[0m\u001b[1;36m4\u001b[0m\u001b[1;33m,\u001b[0m\u001b[1;36m5\u001b[0m\u001b[1;33m,\u001b[0m\u001b[1;36m6\u001b[0m\u001b[1;33m,\u001b[0m\u001b[1;36m7\u001b[0m\u001b[1;33m]\u001b[0m\u001b[1;33m,\u001b[0m\u001b[1;33m[\u001b[0m\u001b[1;36m7\u001b[0m\u001b[1;33m,\u001b[0m\u001b[1;36m8\u001b[0m\u001b[1;33m,\u001b[0m\u001b[1;36m9\u001b[0m\u001b[1;33m,\u001b[0m\u001b[1;36m4\u001b[0m\u001b[1;33m]\u001b[0m\u001b[1;33m]\u001b[0m\u001b[1;33m\u001b[0m\u001b[1;33m\u001b[0m\u001b[0m\n\u001b[1;32m----> 2\u001b[1;33m \u001b[0ma\u001b[0m\u001b[1;33m=\u001b[0m\u001b[0mnp\u001b[0m\u001b[1;33m.\u001b[0m\u001b[0marray\u001b[0m\u001b[1;33m(\u001b[0m\u001b[0ma\u001b[0m\u001b[1;33m)\u001b[0m\u001b[1;33m\u001b[0m\u001b[1;33m\u001b[0m\u001b[0m\n\u001b[0m\u001b[0;32m      3\u001b[0m \u001b[0mprint\u001b[0m\u001b[1;33m(\u001b[0m\u001b[0ma\u001b[0m\u001b[1;33m)\u001b[0m\u001b[1;33m\u001b[0m\u001b[1;33m\u001b[0m\u001b[0m\n\u001b[0;32m      4\u001b[0m \u001b[0mprint\u001b[0m\u001b[1;33m(\u001b[0m\u001b[1;34m'*********'\u001b[0m\u001b[1;33m)\u001b[0m\u001b[1;33m\u001b[0m\u001b[1;33m\u001b[0m\u001b[0m\n\u001b[0;32m      5\u001b[0m \u001b[0mprint\u001b[0m\u001b[1;33m(\u001b[0m\u001b[0mb\u001b[0m\u001b[1;33m=\u001b[0m\u001b[0ma\u001b[0m\u001b[1;33m>\u001b[0m\u001b[1;36m5\u001b[0m\u001b[1;33m)\u001b[0m\u001b[1;33m\u001b[0m\u001b[1;33m\u001b[0m\u001b[0m\n",
      "\u001b[1;31mNameError\u001b[0m: name 'np' is not defined"
     ]
    }
   ],
   "source": [
    "a=[[1,2,3,4],[4,5,6,7],[7,8,9,4]]\n",
    "a=np.array(a)\n",
    "print(a)\n",
    "print('*********')\n",
    "print(b=a>5)\n",
    "print(a[b])"
   ]
  },
  {
   "cell_type": "markdown",
   "metadata": {},
   "source": [
    "# ARRAY OPERATIONS\n",
    "## ELEMENTWISE ARITHMETIC OPERATIONS:"
   ]
  },
  {
   "cell_type": "code",
   "execution_count": 37,
   "metadata": {},
   "outputs": [
    {
     "name": "stdout",
     "output_type": "stream",
     "text": [
      "[[1 2]\n",
      " [4 5]]\n",
      "**************\n",
      "[[1 2]\n",
      " [4 5]]\n",
      "***************\n",
      "[[ 2  4]\n",
      " [ 8 10]]\n",
      "***************\n",
      "[[0 0]\n",
      " [0 0]]\n",
      "***************\n",
      "[[ 1  4]\n",
      " [16 25]]\n",
      "***************\n",
      "[[1. 1.]\n",
      " [1. 1.]]\n",
      "***************\n"
     ]
    }
   ],
   "source": [
    "a=[[1,2],[4,5]]\n",
    "a=np.array(a)\n",
    "print(a)\n",
    "print('**************')\n",
    "b=[[1,2],[4,5]]\n",
    "b=np.array(b)\n",
    "print(b)\n",
    "print('***************')\n",
    "print(a+b) #or print(np.add(a,b))\n",
    "print('***************')\n",
    "print(a-b) #or print(np.subtract(a,b))\n",
    "print('***************')\n",
    "print(a*b) #or print(np.multiply(a,b))\n",
    "print('***************')\n",
    "print(a/b) #or print(np.divide(a,b))\n",
    "print('***************')"
   ]
  },
  {
   "cell_type": "code",
   "execution_count": 39,
   "metadata": {},
   "outputs": [
    {
     "name": "stdout",
     "output_type": "stream",
     "text": [
      "[[1 2]\n",
      " [4 5]]\n",
      "[[1.         1.41421356]\n",
      " [2.         2.23606798]]\n"
     ]
    }
   ],
   "source": [
    "# SQURE ROOT \n",
    "print(a)\n",
    "print(np.sqrt(a))"
   ]
  },
  {
   "cell_type": "code",
   "execution_count": 40,
   "metadata": {},
   "outputs": [
    {
     "name": "stdout",
     "output_type": "stream",
     "text": [
      "17\n",
      "17\n",
      "[ 5 14]\n",
      "[ 5 14]\n",
      "[[14 13]\n",
      " [38 37]]\n",
      "[[14 13]\n",
      " [38 37]]\n"
     ]
    }
   ],
   "source": [
    "# DOT PRODUCT\n",
    "a=[[1,2],[4,5]]\n",
    "a=np.array(a)\n",
    "b=[[2,3],[6,5]]\n",
    "b=np.array(b)\n",
    "v=np.array([1,2])\n",
    "w=np.array([5,6])\n",
    "\n",
    "print(v.dot(w)) #or\n",
    "print(np.dot(v,w))\n",
    "\n",
    "print(a.dot(v)) #or\n",
    "print(np.dot(a,v))\n",
    "\n",
    "print(a.dot(b)) #or\n",
    "print(np.dot(a,b))"
   ]
  },
  {
   "cell_type": "markdown",
   "metadata": {},
   "source": [
    "# SUM OF ELEMENTS"
   ]
  },
  {
   "cell_type": "code",
   "execution_count": 43,
   "metadata": {},
   "outputs": [
    {
     "name": "stdout",
     "output_type": "stream",
     "text": [
      "[[1 2]\n",
      " [4 5]]\n",
      "12\n",
      "[5 7]\n",
      "[3 9]\n"
     ]
    }
   ],
   "source": [
    "print(a)\n",
    "print(np.sum(a))\n",
    "print(np.sum(a,axis=0)) #y axix columns\n",
    "print(np.sum(a,axis=1))#x axis rows"
   ]
  },
  {
   "cell_type": "markdown",
   "metadata": {},
   "source": [
    "# TRANSPOSE"
   ]
  },
  {
   "cell_type": "code",
   "execution_count": 46,
   "metadata": {},
   "outputs": [
    {
     "name": "stdout",
     "output_type": "stream",
     "text": [
      "[[1 2]\n",
      " [4 5]]\n",
      "[[1 4]\n",
      " [2 5]]\n",
      "[[1]\n",
      " [2]\n",
      " [3]\n",
      " [4]]\n"
     ]
    }
   ],
   "source": [
    "print(a)\n",
    "print(a.T)\n",
    "b=[[1,2,3,4]]\n",
    "b=np.array(b)\n",
    "print(b.T)"
   ]
  },
  {
   "cell_type": "code",
   "execution_count": null,
   "metadata": {},
   "outputs": [],
   "source": []
  }
 ],
 "metadata": {
  "kernelspec": {
   "display_name": "Python 3",
   "language": "python",
   "name": "python3"
  },
  "language_info": {
   "codemirror_mode": {
    "name": "ipython",
    "version": 3
   },
   "file_extension": ".py",
   "mimetype": "text/x-python",
   "name": "python",
   "nbconvert_exporter": "python",
   "pygments_lexer": "ipython3",
   "version": "3.7.3"
  }
 },
 "nbformat": 4,
 "nbformat_minor": 2
}
