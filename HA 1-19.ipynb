{
 "cells": [
  {
   "cell_type": "markdown",
   "metadata": {},
   "source": [
    "# HA1"
   ]
  },
  {
   "cell_type": "code",
   "execution_count": null,
   "metadata": {},
   "outputs": [],
   "source": [
    "months=['January','February','March','April','May','June','July','August','September','October','November','December']\n",
    "print ('The first month is' ,months[0])\n",
    "print ('The last month is' ,months[11])\n",
    "print ('The first four months are' ,*months[0:4])\n",
    "print ('The last five months are ' ,*months[-6:-1])\n"
   ]
  },
  {
   "cell_type": "markdown",
   "metadata": {},
   "source": [
    "# HA2"
   ]
  },
  {
   "cell_type": "code",
   "execution_count": null,
   "metadata": {},
   "outputs": [],
   "source": [
    "name=input('Enter your name:')\n",
    "funnyname=name[::2]\n",
    "print('Your funny name is',funnyname)\n"
   ]
  },
  {
   "cell_type": "markdown",
   "metadata": {},
   "source": [
    "# HA3"
   ]
  },
  {
   "cell_type": "code",
   "execution_count": null,
   "metadata": {},
   "outputs": [],
   "source": [
    "pi=22/7\n",
    "r=float(input('Enter the radius:'))\n",
    "a=pi*r*r\n",
    "print('The area of given circle is:',a)\n"
   ]
  },
  {
   "cell_type": "markdown",
   "metadata": {},
   "source": [
    "# HA4"
   ]
  },
  {
   "cell_type": "code",
   "execution_count": null,
   "metadata": {},
   "outputs": [],
   "source": [
    "n=int(input('Enter the Number:'))\n",
    "if(n<0):\n",
    "\tprint('The given number is negative')\n",
    "elif(n>0):\n",
    "\tprint('The given number is positive')\n",
    "else:\n",
    "\tprint('The given number is Zero')\n"
   ]
  },
  {
   "cell_type": "markdown",
   "metadata": {},
   "source": [
    "# HA5"
   ]
  },
  {
   "cell_type": "code",
   "execution_count": null,
   "metadata": {},
   "outputs": [],
   "source": [
    "n=int(input('Enter the month number:'))\n",
    "if(n==1 or n==3 or n==5 or n==7 or n==8 or n==10 or n==12 ):\n",
    "\tprint('The Month has 31 days')\n",
    "elif(n==4 or n==6 or n==9 or n==11):\n",
    "\tprint('The month has 30 days')\n",
    "elif(n==2):\n",
    "\tyear=int(input('Enter the year:'))\n",
    "\tif(year%400==0 or (year%4==0 and year%100!=0)):\n",
    "\t\tprint('The month has 29 days')\n",
    "\telse:\n",
    "\t\tprint('The month has 28 days')\n",
    "else:\n",
    "\tprint('Enter a valid Month Number!')\n"
   ]
  },
  {
   "cell_type": "code",
   "execution_count": null,
   "metadata": {},
   "outputs": [],
   "source": [
    "n=int(input('Enter the month number:'))\n",
    "if(n!=2):\n",
    "\tdict1={1:31,3:31,4:30,5:31,7:31,8:31,10:31,12:31,6:30,9:30,11:30}\n",
    "\tprint('This month has',dict1[n],'days')\n",
    "elif(n==2):\n",
    "\tyear=int(input('Enter the year:'))\n",
    "\tif(year%400==0 or (year%4==0 and year%100!=0)):\n",
    "\t\tprint('The month has 29 days')\n",
    "\telse:\n",
    "\t\tprint('The month has 28 days')\n",
    "else:\n",
    "\tprint('Enter a valid Month Number!')\n"
   ]
  },
  {
   "cell_type": "markdown",
   "metadata": {},
   "source": [
    "# HA6"
   ]
  },
  {
   "cell_type": "code",
   "execution_count": null,
   "metadata": {},
   "outputs": [],
   "source": [
    "#Name of the User\n",
    "while(True):\n",
    "\tfname=input('Enter your first name:')\n",
    "\tif fname.isalpha():\n",
    "\t\tbreak\n",
    "\telse:\n",
    "\t\tprint('Name can only contain alphabets! Enter a valid name!')\n",
    "\n",
    "while(True):\n",
    "\tlname=input('Enter your last name:')\n",
    "\tif lname.isalpha():\n",
    "\t\tbreak\n",
    "\telse:\n",
    "\t\tprint('Name can only contain alphabets! Enter a valid name!')\n",
    "name=fname+' '+lname\n",
    "#Phone Number of the user\n",
    "\n",
    "while(True):\n",
    "\tnumber=input('Enter your Mobile Number:')\n",
    "\tlm=len(number)\n",
    "\tif(lm==10):\n",
    "\t\tif(number.isdigit()):\n",
    "\t\t\tbreak\n",
    "\t\telse:\n",
    "\t\t\tprint('Entered number should contains numbers only.Enter a valid number!')\n",
    "\telse:\n",
    "\t\t\tprint('Enter a valid 10 digit mobile number:')\n",
    "\n",
    "#Pincode of the user\n",
    "\n",
    "while(True):\n",
    "\tpincode=input('Enter your Pincode:')\n",
    "\tlp=len(pincode)\n",
    "\tif(lp==6):\n",
    "\t\tif(pincode.isdigit()):\n",
    "\t\t\tbreak\n",
    "\t\telse:\n",
    "\t\t\tprint('The Entered pincode should contains numbers only.Please Enter a valid pincode!')\n",
    "\telse:\n",
    "\t\t\tprint('Please Enter a valid 6 digit pincode:')\n",
    "#Account type of the user\n",
    "while(True):\n",
    "\ttype=input('Enter Account type:0-Person,1-Private,2-Company,3-NGO,4-Govt,5-Defense:')\n",
    "\tif(type.isdigit()):\n",
    "\t\ttype=int(type)\n",
    "\t\tif(type==0 or type==1 or type==2 or type==3 or type==4 or type==5):\n",
    "\t\t\tbreak\n",
    "\t\telse:\n",
    "\t\t\tprint('Please enter a valid account type from the given Menu')\n",
    "\telse:\n",
    "\t\tprint('The Account type should be a numeric value.Please select a valid type from the Menu')\n",
    "type=str(type)\n",
    "#Digital sum\n",
    "num=number\n",
    "sum=0\n",
    "while(num!=0):\n",
    "\tlastd=int(num)%10\n",
    "\tsum=sum+lastd\n",
    "\tnum=int(num)//10\n",
    "\t\n",
    "lsum=len(str(sum))\n",
    "if(lsum==1):\n",
    "\tdigisum=sum\n",
    "else:\n",
    "\tnum=sum\n",
    "\tsum=0\n",
    "\twhile(num!=0):\n",
    "\t\tlastd=int(num)%10\n",
    "\t\tsum=sum+lastd\n",
    "\t\tnum=int(num)//10\n",
    "\tdigisum=sum\n",
    "    \n",
    "code=''\n",
    "code=code+pincode #421306\n",
    "ini=name[0:2]\n",
    "code=code+ini #421306CH\n",
    "\n",
    "if(digisum==0):\n",
    "\tschar=')'\n",
    "\t\n",
    "elif(digisum==1):\n",
    "\tschar='!'\n",
    "elif(digisum==2):\n",
    "\tschar='@'\n",
    "elif(digisum==3):\n",
    "\tcode=code+'%c'%(35)\n",
    "\tschar=''\n",
    "elif(digisum==4):\n",
    "\tschar='$'\n",
    "elif(digisum==5):\n",
    "\tschar='%'\n",
    "elif(digisum==6):\n",
    "\tschar='^'\t\n",
    "elif(digisum==7):\n",
    "\tschar='&'\n",
    "elif(digisum==8):\n",
    "\tschar='*'\n",
    "else:\n",
    "\tschar='('\n",
    "\t\t\n",
    "code=code+schar #421306CH@\n",
    "Uniquecode=code+type\n",
    "\n",
    "print('Your Unique code is', Uniquecode)\n"
   ]
  },
  {
   "cell_type": "code",
   "execution_count": null,
   "metadata": {},
   "outputs": [],
   "source": [
    "#Name of the User\n",
    "while(True):\n",
    "\tfname=input('Enter your first name:')\n",
    "\tif fname.isalpha():\n",
    "\t\tbreak\n",
    "\telse:\n",
    "\t\tprint('Name can only contain alphabets! Enter a valid name!')\n",
    "while(True):\n",
    "\tlname=input('Enter your last name:')\n",
    "\tif lname.isalpha():\n",
    "\t\tbreak\n",
    "\telse:\n",
    "\t\tprint('Name can only contain alphabets! Enter a valid name!')\n",
    "name=fname+' '+lname\n",
    "#Phone Number of the user\n",
    "while(True):\n",
    "\tnumber=input('Enter your Mobile Number:')\n",
    "\tlm=len(number)\n",
    "\tif(lm==10):\n",
    "\t\tif(number.isdigit()):\n",
    "\t\t\tbreak\n",
    "\t\telse:\n",
    "\t\t\tprint('Entered number should contains numbers only.Enter a valid number!')\n",
    "\telse:\n",
    "\t\t\tprint('Enter a valid 10 digit mobile number:')\n",
    "#Pincode of the user\n",
    "while(True):\n",
    "\tpincode=input('Enter your Pincode:')\n",
    "\tlp=len(pincode)\n",
    "\tif(lp==6):\n",
    "\t\tif(pincode.isdigit()):\n",
    "\t\t\tbreak\n",
    "\t\telse:\n",
    "\t\t\tprint('The Entered pincode should contains numbers only.Please Enter a valid pincode!')\n",
    "\telse:\n",
    "\t\t\tprint('Please Enter a valid 6 digit pincode:')\n",
    "#Account type of the user\n",
    "while(True):\n",
    "\ttype=input('Enter Account type:0-Person,1-Private,2-Company,3-NGO,4-Govt,5-Defense:')\n",
    "\tif(type.isdigit()):\n",
    "\t\ttype=int(type)\n",
    "\t\tif(type==0 or type==1 or type==2 or type==3 or type==4 or type==5):\n",
    "\t\t\tbreak\n",
    "\t\telse:\n",
    "\t\t\tprint('Please enter a valid account type from the given Menu')\n",
    "\telse:\n",
    "\t\tprint('The Account type should be a numeric value.Please select a valid type from the Menu')\n",
    "type=str(type)\n",
    "#Digital sum\n",
    "num=number\n",
    "sum=0\n",
    "for i in number:\n",
    "\tsum=sum+int(i)\n",
    "if len(str(sum!=1)):\n",
    "\tnum=str(sum)\n",
    "\tsum=0\n",
    "\tfor i in num:\n",
    "\t\tsum=sum+int(i)\n",
    "code=''\n",
    "code=code+pincode #421306\n",
    "ini=name[0:2]\n",
    "code=code+ini #421306CH\n",
    "dict1={0:')',1:'!',2:'@',4:'$',5:'%',6:'^',7:'&',8:'*',9:'('}\n",
    "if sum!=3:\n",
    "\tprint(sum)\n",
    "\tschar=dict1.get(sum)\n",
    "\tcode=code+schar\n",
    "else:\n",
    "\tcode=code+'%c'%(35)\n",
    "code=code+type\n",
    "print('Your Unique code is', code)\n"
   ]
  },
  {
   "cell_type": "markdown",
   "metadata": {},
   "source": [
    "# HA 7 SUB:MARKS"
   ]
  },
  {
   "cell_type": "code",
   "execution_count": null,
   "metadata": {},
   "outputs": [],
   "source": [
    "d={'Maths':20,'Science':20,'Geography':50,'History':40,'Marathi':10,'Hindi':40,'English':20}\n",
    "l=list(d.values())\n",
    "result=0\n",
    "for i in l:\n",
    "\tresult=result+i\n",
    "print('The total score is', result)"
   ]
  },
  {
   "cell_type": "markdown",
   "metadata": {},
   "source": [
    "# HA 8 TABLE OF 7"
   ]
  },
  {
   "cell_type": "code",
   "execution_count": null,
   "metadata": {},
   "outputs": [],
   "source": [
    "for i in range(10):\n",
    "\ti+=1\n",
    "\tprint('7 X',i,'=',7*i)"
   ]
  },
  {
   "cell_type": "markdown",
   "metadata": {},
   "source": [
    "# HA 9 SUM OF N NOS"
   ]
  },
  {
   "cell_type": "code",
   "execution_count": null,
   "metadata": {},
   "outputs": [],
   "source": [
    "n=input('Enter the Number:')\n",
    "res=0\n",
    "if n.isdigit():\n",
    "\tfor i in range(int(n)):\n",
    "\t\ti+=1\n",
    "\t\tres=res+i\n",
    "print('The sum of first' , n ,'numbers is',res)"
   ]
  },
  {
   "cell_type": "markdown",
   "metadata": {},
   "source": [
    "# HA 10 LIST DIVISILE BY 3"
   ]
  },
  {
   "cell_type": "code",
   "execution_count": null,
   "metadata": {},
   "outputs": [],
   "source": [
    "l=[]\n",
    "for i in range(10):\n",
    "\tprint('Enter the number',i+1,':')\n",
    "\tx=input()\n",
    "\tif(int(x)%3==0):\n",
    "\t\tl.append(x)\n",
    "print(l)\n"
   ]
  },
  {
   "cell_type": "markdown",
   "metadata": {},
   "source": [
    "# HA 11 name:number"
   ]
  },
  {
   "cell_type": "code",
   "execution_count": 8,
   "metadata": {},
   "outputs": [
    {
     "name": "stdout",
     "output_type": "stream",
     "text": [
      "Enter the number of records:2\n",
      "Enter the name:asd\n",
      "Enter the Roll Number:123\n",
      "Enter the name:qwe\n",
      "Enter the Roll Number:555\n",
      "{'asd': '123', 'qwe': '555'}\n"
     ]
    }
   ],
   "source": [
    "n=int(input('Enter the number of records:'))\n",
    "x=[]\n",
    "y=[]\n",
    "i=0\n",
    "dict1={}\n",
    "while(n!=0):\n",
    "\tname=input('Enter the name:')\n",
    "\tx.append(name)\n",
    "\troll=input('Enter the Roll Number:')\n",
    "\ty.append(roll)\n",
    "\tn-=1\n",
    "for i in range(len(x)):\n",
    "\tdict1[x[i]]=y[i]\n",
    "\n",
    "print(dict1)"
   ]
  },
  {
   "cell_type": "markdown",
   "metadata": {},
   "source": [
    "# HA 12 POWERS OF 2"
   ]
  },
  {
   "cell_type": "code",
   "execution_count": 9,
   "metadata": {},
   "outputs": [
    {
     "name": "stdout",
     "output_type": "stream",
     "text": [
      "1 2 4 8 16 32 64 128 256 512\n"
     ]
    }
   ],
   "source": [
    "val =[2**i for i in range(10)]\n",
    "print(*val)"
   ]
  },
  {
   "cell_type": "markdown",
   "metadata": {},
   "source": [
    "# HA 13 "
   ]
  },
  {
   "cell_type": "code",
   "execution_count": 10,
   "metadata": {},
   "outputs": [
    {
     "name": "stdout",
     "output_type": "stream",
     "text": [
      "addition is: [2, 2, 2, 2]\n"
     ]
    }
   ],
   "source": [
    "list1=[1,1,1,1]\n",
    "list2=[1,1,1,1]\n",
    "print('addition is:',list(map(lambda a,b:a+b,list1,list2)))"
   ]
  },
  {
   "cell_type": "markdown",
   "metadata": {},
   "source": [
    "# HA 14 SECOND PARAGRAPH"
   ]
  },
  {
   "cell_type": "code",
   "execution_count": 11,
   "metadata": {},
   "outputs": [
    {
     "name": "stdout",
     "output_type": "stream",
     "text": [
      "This is second.\n"
     ]
    }
   ],
   "source": [
    "fo=open('chirag.txt','w+')\n",
    "fo.write('\\tThis is first paragraph.')\n",
    "fo.write('\\n\\tThis is second.')\n",
    "\n",
    "fo=open('chirag.txt','r')\n",
    "lines=fo.readlines()\n",
    "\n",
    "for i in (1,len(lines)):\n",
    "\tif '\\t' in lines[i]:\n",
    "\t\tprint(lines[i].lstrip('\\t'))\n",
    "\t\tbreak"
   ]
  },
  {
   "cell_type": "markdown",
   "metadata": {},
   "source": [
    "# HA 15"
   ]
  },
  {
   "cell_type": "code",
   "execution_count": 12,
   "metadata": {},
   "outputs": [
    {
     "name": "stdout",
     "output_type": "stream",
     "text": [
      "The Number of imports in the given file are : 4\n",
      "The names of the imports are :\n",
      "getopt\n",
      "sys\n",
      "urllib\n",
      "time\n",
      "***********************************\n",
      "The Number of functions in given file are : 5\n",
      "The names of the functions are:\n",
      "main\n",
      "Greg2JD\n",
      "QuarterDates\n",
      "GetMetaData\n",
      "usage\n",
      "***********************************\n",
      "The number of lines in the function main are: 14\n",
      "The number of lines in the function Greg2JD are: 18\n",
      "The number of lines in the function QuarterDates are: 8\n",
      "The number of lines in the function GetMetaData are: 40\n",
      "The number of lines in the function usage are: 13\n",
      "***********************************\n",
      "The number of for loops in the file are: 2\n",
      "The number of while loops in the file are: 0\n",
      "The number of if else statements in the file are: 4\n"
     ]
    }
   ],
   "source": [
    "fo=open('pythontestfile.py','r')\n",
    "lines=fo.readlines()\n",
    "n=len(lines)\n",
    "\n",
    "#Number of Imports\n",
    "imports=0\n",
    "importlines=[]\n",
    "for i in range(n):\n",
    "    if 'import' in lines[i]:\n",
    "        imports+=1\n",
    "        importlines.append(lines[i])\n",
    "print('The Number of imports in the given file are :',imports)\n",
    "#print(importlines)\n",
    "importnames=[]\n",
    "for i in range(imports):\n",
    "    x=importlines[i]\n",
    "    x=x[7:-1]\n",
    "    importnames.append(x)\n",
    "print('The names of the imports are :' ,*importnames,sep='\\n')\n",
    "print('***********************************')\n",
    "\n",
    "#functions\n",
    "deflines=[]\n",
    "defline=[]\n",
    "funcs=0\n",
    "for i in range(n):\n",
    "    if 'def' in lines[i]:\n",
    "        funcs+=1\n",
    "        deflines.append(i)\n",
    "        defline.append(lines[i])\n",
    "print('The Number of functions in given file are :',funcs)\n",
    "\n",
    "#function names\n",
    "funcnames=[]\n",
    "funcnames1=[]\n",
    "for i in range(len(defline)):\n",
    "    x=defline[i]\n",
    "    x=x[4:-2]\n",
    "    funcnames.append(x)\n",
    "for i in range(len(funcnames)):\n",
    "    x=funcnames[i] #x=main() x='main()'\n",
    "    y=list(x)\n",
    "#     print(y)\n",
    "    for j in range(len(y)):\n",
    "        if y[j]=='(':\n",
    "            stopat=j\n",
    "    funcnames1.append(funcnames[i][:stopat])\n",
    "\n",
    "print('The names of the functions are:',*funcnames1,sep='\\n')\n",
    "print('***********************************')\n",
    "\n",
    "# number of lines in fucntions\n",
    "u=0 #to update the function name to be printed in the every iteration\n",
    "for i in deflines:\n",
    "    c=0\n",
    "    noflines=0 \n",
    "    while(True):\n",
    "        c+=1\n",
    "        if lines[i+c].startswith('    '):\n",
    "            noflines+=1\n",
    "        elif lines[i+c].startswith('#'):  \n",
    "            continue\n",
    "        elif(lines[i+c].startswith('\\n')):\n",
    "            continue\n",
    "        else:\n",
    "             break\n",
    "    print('The number of lines in the function',funcnames1[u],'are:',noflines)\n",
    "    u+=1\n",
    "print('***********************************')\n",
    "\n",
    "#Number of loops\n",
    "nfor=0\n",
    "nwhile=0\n",
    "nifelse=0\n",
    "for i in range(n):\n",
    "    lines[i]=lines[i].lstrip(' ')\n",
    "    if lines[i].startswith('for') and lines[i].endswith(':\\n'):\n",
    "        nfor+=1\n",
    "    if 'while' in lines[i]:\n",
    "        nwhile+=1\n",
    "    if 'else' in lines[i]:\n",
    "        nifelse+=1\n",
    "print('The number of for loops in the file are:',nfor)\n",
    "print('The number of while loops in the file are:',nwhile)\n",
    "print('The number of if else statements in the file are:',nifelse)"
   ]
  },
  {
   "cell_type": "markdown",
   "metadata": {},
   "source": [
    "## Number of lines in a funtion logic"
   ]
  },
  {
   "cell_type": "code",
   "execution_count": null,
   "metadata": {},
   "outputs": [],
   "source": [
    "# fo=open('abc.txt','r')\n",
    "# lines=fo.readlines()\n",
    "# print(lines)\n",
    "# l=len(lines)\n",
    "# defindex=[]\n",
    "# for i in range(l):\n",
    "#     if 'def' in lines[i]:\n",
    "#         defindex.append(i)\n",
    "# print(defindex)\n",
    "\n",
    "# for i in defindex:\n",
    "#     c=0\n",
    "#     noflines=0 #].startswith('#'):    lines[i].startswith('\\n')):  tartswith('\\t'):\n",
    "#     while(True):\n",
    "#         c+=1\n",
    "#         if lines[i+c].startswith('\\t'):\n",
    "#             noflines+=1\n",
    "#         elif lines[i+c].startswith('#'):  \n",
    "#             continue\n",
    "#         elif(lines[i+c].startswith('\\n')):\n",
    "#             continue\n",
    "#         else:\n",
    "#              break\n",
    "#     print('The number of lines in the function are:',noflines)"
   ]
  },
  {
   "cell_type": "markdown",
   "metadata": {},
   "source": [
    "## Removing () from a function name logic"
   ]
  },
  {
   "cell_type": "code",
   "execution_count": null,
   "metadata": {},
   "outputs": [],
   "source": [
    "abc=['sasa()','asasa(asa,asa)']\n",
    "for i in range(len(abc)):\n",
    "    x=abc[i]\n",
    "    y=list(x)\n",
    "    print(y)\n",
    "    for j in range(len(y)):\n",
    "        if y[j]=='(':\n",
    "            stopat=j\n",
    "    print(abc[i][:stopat])\n",
    "\n",
    "            "
   ]
  },
  {
   "cell_type": "markdown",
   "metadata": {},
   "source": [
    "# HA 16 Submatrices"
   ]
  },
  {
   "cell_type": "code",
   "execution_count": 13,
   "metadata": {},
   "outputs": [
    {
     "name": "stdout",
     "output_type": "stream",
     "text": [
      "Enter Elements of Row 1:1 2 3\n",
      "Enter Elements of Row 2:1 2 3\n",
      "Enter Elements of Row 3:1 2 3\n",
      "[[1 2 3]\n",
      " [1 2 3]\n",
      " [1 2 3]]\n",
      "The four 2x2 submatrices are: [[1 2]\n",
      " [1 2]] [[2 3]\n",
      " [2 3]] [[1 2]\n",
      " [1 2]] [[2 3]\n",
      " [2 3]]\n"
     ]
    }
   ],
   "source": [
    "import numpy as np\n",
    "row1=list(map(int,input('Enter Elements of Row 1:').split()))\n",
    "row2=list(map(int,input('Enter Elements of Row 2:').split()))\n",
    "row3=list(map(int,input('Enter Elements of Row 3:').split()))\n",
    "a=np.array([row1,row2,row3])\n",
    "print(a)\n",
    "x=a[0:2,0:2]\n",
    "y=a[0:2,1:3]\n",
    "z=a[1:3,0:2]\n",
    "w=a[1:3,1:3]\n",
    "print('The four 2x2 submatrices are:',x,y,z,w)"
   ]
  },
  {
   "cell_type": "markdown",
   "metadata": {},
   "source": [
    "# HA 17 Random Matrix addition"
   ]
  },
  {
   "cell_type": "code",
   "execution_count": 14,
   "metadata": {},
   "outputs": [
    {
     "name": "stdout",
     "output_type": "stream",
     "text": [
      "Matrix 1 is:\n",
      " [[8 5 4]\n",
      " [4 6 9]\n",
      " [8 3 2]]\n",
      "Matrix 2 is:\n",
      " [[0.11371423 0.49723934 0.97943041]\n",
      " [0.77122393 0.71958441 0.31597487]\n",
      " [0.55555945 0.59308689 0.88138628]]\n",
      "Addition of the two random matrices is:\n",
      " [[8.11371423 5.49723934 4.97943041]\n",
      " [4.77122393 6.71958441 9.31597487]\n",
      " [8.55555945 3.59308689 2.88138628]]\n"
     ]
    }
   ],
   "source": [
    "import numpy as np\n",
    "a=np.random.randint(1,10,size=(3,3))\n",
    "print('Matrix 1 is:\\n',a)\n",
    "b=np.random.random((3,3))\n",
    "print('Matrix 2 is:\\n',b)\n",
    "print('Addition of the two random matrices is:\\n',a+b)\n",
    "#print(np.add(a,b))"
   ]
  },
  {
   "cell_type": "markdown",
   "metadata": {},
   "source": [
    "# HA 18 Elementwise Arithmetic on Matrices"
   ]
  },
  {
   "cell_type": "code",
   "execution_count": 15,
   "metadata": {},
   "outputs": [
    {
     "name": "stdout",
     "output_type": "stream",
     "text": [
      "Enter Matrix 1:\n",
      "Enter Elements of Row 1:1 2 3\n",
      "Enter Elements of Row 2:4 5 6\n",
      "Enter Elements of Row 3:7 8 9\n",
      "Enter Matrix 2:\n",
      "Enter Elements of Row 1:7 8 9\n",
      "Enter Elements of Row 2:4 5 6\n",
      "Enter Elements of Row 3:1 2 3\n",
      "Addition is:\n",
      " [[ 8 10 12]\n",
      " [ 8 10 12]\n",
      " [ 8 10 12]]\n",
      "Subtraction is:\n",
      " [[-6 -6 -6]\n",
      " [ 0  0  0]\n",
      " [ 6  6  6]]\n",
      "Multiplication is:\n",
      " [[ 7 16 27]\n",
      " [16 25 36]\n",
      " [ 7 16 27]]\n",
      "Division is:\n",
      " [[0.14285714 0.25       0.33333333]\n",
      " [1.         1.         1.        ]\n",
      " [7.         4.         3.        ]]\n"
     ]
    }
   ],
   "source": [
    "import numpy as np\n",
    "print('Enter Matrix 1:')\n",
    "row1=list(map(int,input('Enter Elements of Row 1:').split()))\n",
    "row2=list(map(int,input('Enter Elements of Row 2:').split()))\n",
    "row3=list(map(int,input('Enter Elements of Row 3:').split()))\n",
    "a=np.array([row1,row2,row3])\n",
    "print('Enter Matrix 2:')\n",
    "row1=list(map(int,input('Enter Elements of Row 1:').split()))\n",
    "row2=list(map(int,input('Enter Elements of Row 2:').split()))\n",
    "row3=list(map(int,input('Enter Elements of Row 3:').split()))\n",
    "b=np.array([row1,row2,row3])\n",
    "print('Addition is:\\n',a+b)\n",
    "print('Subtraction is:\\n',a-b)\n",
    "print('Multiplication is:\\n',a*b)\n",
    "print('Division is:\\n',a/b)"
   ]
  },
  {
   "cell_type": "code",
   "execution_count": 16,
   "metadata": {
    "scrolled": true
   },
   "outputs": [
    {
     "data": {
      "text/plain": [
       "[0, 0.5, 0, 20]"
      ]
     },
     "execution_count": 16,
     "metadata": {},
     "output_type": "execute_result"
    },
    {
     "data": {
      "image/png": "[encoded data removed]",
      "text/plain": [
       "<Figure size 360x360 with 1 Axes>"
      ]
     },
     "metadata": {
      "needs_background": "light"
     },
     "output_type": "display_data"
    }
   ],
   "source": [
    "import numpy as np\n",
    "%matplotlib inline\n",
    "import matplotlib.pyplot as plt\n",
    "x=np.linspace(0,0.5,200)\n",
    "e=np.exp(x)\n",
    "plt.figure(figsize=(5,5))\n",
    "plt.plot(x,e,'r',label='e¹')\n",
    "plt.plot(x,e**2,'c',label='e²')\n",
    "plt.plot(x,e**3,'g',label='e³')\n",
    "plt.plot(x,e**4,'m',label='e⁴')\n",
    "plt.plot(x,e**5,'b',label='e**5')\n",
    "plt.plot(x,e**6,'y',label='e**6')\n",
    "plt.legend()\n",
    "plt.grid(alpha=0.5)\n",
    "plt.axis([0,0.5,0,20])\n",
    "\n"
   ]
  },
  {
   "cell_type": "code",
   "execution_count": null,
   "metadata": {},
   "outputs": [],
   "source": [
    "\n"
   ]
  }
 ],
 "metadata": {
  "kernelspec": {
   "display_name": "Python 3",
   "language": "python",
   "name": "python3"
  },
  "language_info": {
   "codemirror_mode": {
    "name": "ipython",
    "version": 3
   },
   "file_extension": ".py",
   "mimetype": "text/x-python",
   "name": "python",
   "nbconvert_exporter": "python",
   "pygments_lexer": "ipython3",
   "version": "3.7.3"
  }
 },
 "nbformat": 4,
 "nbformat_minor": 2
}
